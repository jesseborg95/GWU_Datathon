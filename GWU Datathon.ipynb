{
 "cells": [
  {
   "cell_type": "markdown",
   "metadata": {},
   "source": [
    "# GWU Datathon - Jesse Borg"
   ]
  },
  {
   "cell_type": "markdown",
   "metadata": {},
   "source": [
    "## Introduction\n",
    "\n",
    "This report was done for the GWU Datathon between April 2, 2021 and April 4, 2021. The report will look at crash data from the Metropolitan Police Department (MPD) and will include data preprocessing, exploratory data analysis hyperparameter/model selection and an interpertaion of the findings. Suggestions on current policies will also be included based on the findings."
   ]
  },
  {
   "cell_type": "markdown",
   "metadata": {},
   "source": [
    "## Abstract\n",
    "\n",
    "According to the CDC, \"road traffic crashes are a leading cause of death in the United States for people aged 1–54, and they are the leading cause of nonnatural death for U.S. citizens residing or traveling abroad. It is estimated that fatal and nonfatal crash injuries will cost the world economy approximately $1.8 trillion dollars. This article can be accessed at: https://www.cdc.gov/injury/features/global-road-safety/index.html#:~:text=Road%20traffic%20crashes%20are%20a,citizens%20residing%20or%20traveling%20abroad.\n",
    "\n",
    "Reports from the National Highway Traffic Safety Administration (NHTSA) focusing on motor-vehicle traffic fatalities in 2019 and the first half of 2020 suggest that overall, roads were safer in 2019 than 2018, continuing a three-year trend that started in 2017. However, based on the agency's early estimates U.S. roads were more dangerous in the second quarter of 2020 than they have been in years.\n",
    "\n",
    "This study aims to get a deeper understanding on traffic crashes in Washington DC and which factors have the greatest effect on whether a collision will be fatal or not. To do this, an extensive EDA was carried on data derived from the Metropolitan Police Department's (MPD) crash data. After the EDA was done, different models were implemented to find the feautures with the most importance when determining whether a collision will be fatal or not. These results were be cross-referenced with the insights from the EDA to make sure they make sense. \n",
    "\n",
    "A number of key findings were obtained from the results:\n",
    " - The type of person involved in any type of collision is very likely to be the driver\n",
    " - People between the ages of 18-29 are most likely to be involved in a collision\n",
    " - Passenger Cars/Automobiles are the type of vehicle mostly involved in a collision\n",
    " - 0.072% of all crashes were fatal, 2% resulted in a major injury and 12.3% resulted in a minor injury\n",
    " - Just 1.96% of the drivers involved in a fatal collision were deemed impaired\n",
    " - 14.7% of vehicles involved in fatal collisions were deemed to be speeding\n",
    " - Unplated vehicles are involved in fatal collisions proportionally much higher than non-fatal collisions\n",
    " - The final selected models were the XGB Classifier and the Decision Tree classifier with a score of 0.999297 and 0.988137 respectively\n",
    " - The most important features from the combined models when predicting whether a collision will be fatal are; if the person involved is a pedestrian or motorcyclist, or if they were speeding."
   ]
  },
  {
   "cell_type": "markdown",
   "metadata": {},
   "source": [
    "## Pipeline\n",
    "\n",
    "This section will implement the full pipeline of the project, which includes data preprocessing, exploratory data analysis, hyperparameter tuning/model selection and interpretation."
   ]
  },
  {
   "cell_type": "markdown",
   "metadata": {},
   "source": [
    "### Data Preprocessing"
   ]
  },
  {
   "cell_type": "code",
   "execution_count": 1,
   "metadata": {},
   "outputs": [],
   "source": [
    "# Start by loading the required packages\n",
    "import pandas as pd\n",
    "import numpy as np\n",
    "import matplotlib.pyplot as plt\n",
    "from sklearn.model_selection import train_test_split"
   ]
  },
  {
   "cell_type": "code",
   "execution_count": 2,
   "metadata": {
    "scrolled": true
   },
   "outputs": [
    {
     "name": "stderr",
     "output_type": "stream",
     "text": [
      "C:\\Users\\12023\\anaconda3\\lib\\site-packages\\IPython\\core\\interactiveshell.py:3063: DtypeWarning: Columns (2) have mixed types.Specify dtype option on import or set low_memory=False.\n",
      "  interactivity=interactivity, compiler=compiler, result=result)\n"
     ]
    },
    {
     "data": {
      "text/html": [
       "<div>\n",
       "<style scoped>\n",
       "    .dataframe tbody tr th:only-of-type {\n",
       "        vertical-align: middle;\n",
       "    }\n",
       "\n",
       "    .dataframe tbody tr th {\n",
       "        vertical-align: top;\n",
       "    }\n",
       "\n",
       "    .dataframe thead th {\n",
       "        text-align: right;\n",
       "    }\n",
       "</style>\n",
       "<table border=\"1\" class=\"dataframe\">\n",
       "  <thead>\n",
       "    <tr style=\"text-align: right;\">\n",
       "      <th></th>\n",
       "      <th>OBJECTID</th>\n",
       "      <th>CRIMEID</th>\n",
       "      <th>CCN</th>\n",
       "      <th>PERSONID</th>\n",
       "      <th>PERSONTYPE</th>\n",
       "      <th>AGE</th>\n",
       "      <th>FATAL</th>\n",
       "      <th>MAJORINJURY</th>\n",
       "      <th>MINORINJURY</th>\n",
       "      <th>VEHICLEID</th>\n",
       "      <th>INVEHICLETYPE</th>\n",
       "      <th>TICKETISSUED</th>\n",
       "      <th>LICENSEPLATESTATE</th>\n",
       "      <th>IMPAIRED</th>\n",
       "      <th>SPEEDING</th>\n",
       "    </tr>\n",
       "  </thead>\n",
       "  <tbody>\n",
       "    <tr>\n",
       "      <th>0</th>\n",
       "      <td>438194351</td>\n",
       "      <td>26872544</td>\n",
       "      <td>16034312</td>\n",
       "      <td>84628234</td>\n",
       "      <td>Passenger</td>\n",
       "      <td>31.0</td>\n",
       "      <td>N</td>\n",
       "      <td>N</td>\n",
       "      <td>N</td>\n",
       "      <td>2275009</td>\n",
       "      <td>Passenger Car/automobile</td>\n",
       "      <td>N</td>\n",
       "      <td>VA</td>\n",
       "      <td>Y</td>\n",
       "      <td>N</td>\n",
       "    </tr>\n",
       "    <tr>\n",
       "      <th>1</th>\n",
       "      <td>438194352</td>\n",
       "      <td>26872544</td>\n",
       "      <td>16034312</td>\n",
       "      <td>84833902</td>\n",
       "      <td>Passenger</td>\n",
       "      <td>31.0</td>\n",
       "      <td>N</td>\n",
       "      <td>N</td>\n",
       "      <td>N</td>\n",
       "      <td>2275009</td>\n",
       "      <td>Passenger Car/automobile</td>\n",
       "      <td>N</td>\n",
       "      <td>VA</td>\n",
       "      <td>Y</td>\n",
       "      <td>N</td>\n",
       "    </tr>\n",
       "    <tr>\n",
       "      <th>2</th>\n",
       "      <td>438194353</td>\n",
       "      <td>26872544</td>\n",
       "      <td>16034312</td>\n",
       "      <td>84938064</td>\n",
       "      <td>Driver</td>\n",
       "      <td>NaN</td>\n",
       "      <td>N</td>\n",
       "      <td>N</td>\n",
       "      <td>N</td>\n",
       "      <td>2275007</td>\n",
       "      <td>Passenger Car/automobile</td>\n",
       "      <td>N</td>\n",
       "      <td>None</td>\n",
       "      <td>N</td>\n",
       "      <td>N</td>\n",
       "    </tr>\n",
       "    <tr>\n",
       "      <th>3</th>\n",
       "      <td>438194354</td>\n",
       "      <td>26872544</td>\n",
       "      <td>16034312</td>\n",
       "      <td>84790164</td>\n",
       "      <td>Driver</td>\n",
       "      <td>31.0</td>\n",
       "      <td>N</td>\n",
       "      <td>N</td>\n",
       "      <td>N</td>\n",
       "      <td>2275009</td>\n",
       "      <td>Passenger Car/automobile</td>\n",
       "      <td>N</td>\n",
       "      <td>VA</td>\n",
       "      <td>N</td>\n",
       "      <td>N</td>\n",
       "    </tr>\n",
       "    <tr>\n",
       "      <th>4</th>\n",
       "      <td>438194355</td>\n",
       "      <td>26872544</td>\n",
       "      <td>16034312</td>\n",
       "      <td>84953497</td>\n",
       "      <td>Passenger</td>\n",
       "      <td>47.0</td>\n",
       "      <td>N</td>\n",
       "      <td>N</td>\n",
       "      <td>Y</td>\n",
       "      <td>2275008</td>\n",
       "      <td>Passenger Car/automobile</td>\n",
       "      <td>N</td>\n",
       "      <td>VA</td>\n",
       "      <td>Y</td>\n",
       "      <td>N</td>\n",
       "    </tr>\n",
       "  </tbody>\n",
       "</table>\n",
       "</div>"
      ],
      "text/plain": [
       "    OBJECTID   CRIMEID       CCN  PERSONID PERSONTYPE   AGE FATAL MAJORINJURY  \\\n",
       "0  438194351  26872544  16034312  84628234  Passenger  31.0     N           N   \n",
       "1  438194352  26872544  16034312  84833902  Passenger  31.0     N           N   \n",
       "2  438194353  26872544  16034312  84938064     Driver   NaN     N           N   \n",
       "3  438194354  26872544  16034312  84790164     Driver  31.0     N           N   \n",
       "4  438194355  26872544  16034312  84953497  Passenger  47.0     N           N   \n",
       "\n",
       "  MINORINJURY VEHICLEID             INVEHICLETYPE TICKETISSUED  \\\n",
       "0           N   2275009  Passenger Car/automobile            N   \n",
       "1           N   2275009  Passenger Car/automobile            N   \n",
       "2           N   2275007  Passenger Car/automobile            N   \n",
       "3           N   2275009  Passenger Car/automobile            N   \n",
       "4           Y   2275008  Passenger Car/automobile            N   \n",
       "\n",
       "  LICENSEPLATESTATE IMPAIRED SPEEDING  \n",
       "0                VA        Y        N  \n",
       "1                VA        Y        N  \n",
       "2              None        N        N  \n",
       "3                VA        N        N  \n",
       "4                VA        Y        N  "
      ]
     },
     "execution_count": 2,
     "metadata": {},
     "output_type": "execute_result"
    }
   ],
   "source": [
    "# Load Dataset\n",
    "crash_data = pd.read_csv('Crash_Details_Table.csv', header = 0)\n",
    "\n",
    "# Display first few rows to ensure data has been loaded correctly\n",
    "crash_data.head()"
   ]
  },
  {
   "cell_type": "code",
   "execution_count": 3,
   "metadata": {},
   "outputs": [
    {
     "name": "stdout",
     "output_type": "stream",
     "text": [
      "Number of Rows:  596381\n",
      "Number of Columns:  15\n"
     ]
    }
   ],
   "source": [
    "# Get an idea of the size of the dataset\n",
    "print('Number of Rows: ', crash_data.shape[0])\n",
    "print('Number of Columns: ', crash_data.shape[1])"
   ]
  },
  {
   "cell_type": "code",
   "execution_count": 4,
   "metadata": {},
   "outputs": [
    {
     "name": "stdout",
     "output_type": "stream",
     "text": [
      "OBJECTID               int64\n",
      "CRIMEID                int64\n",
      "CCN                   object\n",
      "PERSONID               int64\n",
      "PERSONTYPE            object\n",
      "AGE                  float64\n",
      "FATAL                 object\n",
      "MAJORINJURY           object\n",
      "MINORINJURY           object\n",
      "VEHICLEID             object\n",
      "INVEHICLETYPE         object\n",
      "TICKETISSUED          object\n",
      "LICENSEPLATESTATE     object\n",
      "IMPAIRED              object\n",
      "SPEEDING              object\n",
      "dtype: object\n"
     ]
    }
   ],
   "source": [
    "# Column (2) has mixed data types - further investigation\n",
    "print(crash_data.dtypes)"
   ]
  },
  {
   "cell_type": "code",
   "execution_count": 5,
   "metadata": {},
   "outputs": [],
   "source": [
    "# Set Data type\n",
    "# crash_data = crash_data.astype({'CCN': int}) # It appears as there is an underscore before one of the values\n",
    "\n",
    "#Remove underscore for whole column as a precaution\n",
    "crash_data['CCN'] = crash_data['CCN'].str.replace('_', '')\n",
    "# crash_data = crash_data.astype({'CCN': int}) # Does not work due to Nans\n",
    "\n",
    "# Since dataframe has Nans and cannot convert to int, see which columns have Nans\n",
    "crash_data.isnull().sum(axis = 0)\n",
    "\n",
    "# Because for the CCN column, 530,845 / 596,381 (which is 89%) are Nans, I decided to remove the column\n",
    "# as it has too much missing data and the information itself is not important in gaining important insights\n",
    "crash_data = crash_data.drop('CCN', 1)\n",
    "\n",
    "# For age, there is a total of 169,637 / 596,381 (which is 28% of the data) Nans, I decided to remove the rows\n",
    "# which have age as nan because it still leave over 400,000 rows of data and age is an important statistic\n",
    "crash_data = crash_data[crash_data['AGE'].notna()]"
   ]
  },
  {
   "cell_type": "code",
   "execution_count": 6,
   "metadata": {},
   "outputs": [
    {
     "data": {
      "text/html": [
       "<div>\n",
       "<style scoped>\n",
       "    .dataframe tbody tr th:only-of-type {\n",
       "        vertical-align: middle;\n",
       "    }\n",
       "\n",
       "    .dataframe tbody tr th {\n",
       "        vertical-align: top;\n",
       "    }\n",
       "\n",
       "    .dataframe thead th {\n",
       "        text-align: right;\n",
       "    }\n",
       "</style>\n",
       "<table border=\"1\" class=\"dataframe\">\n",
       "  <thead>\n",
       "    <tr style=\"text-align: right;\">\n",
       "      <th></th>\n",
       "      <th>OBJECTID</th>\n",
       "      <th>CRIMEID</th>\n",
       "      <th>PERSONID</th>\n",
       "      <th>PERSONTYPE</th>\n",
       "      <th>AGE</th>\n",
       "      <th>FATAL</th>\n",
       "      <th>MAJORINJURY</th>\n",
       "      <th>MINORINJURY</th>\n",
       "      <th>VEHICLEID</th>\n",
       "      <th>INVEHICLETYPE</th>\n",
       "      <th>TICKETISSUED</th>\n",
       "      <th>LICENSEPLATESTATE</th>\n",
       "      <th>IMPAIRED</th>\n",
       "      <th>SPEEDING</th>\n",
       "    </tr>\n",
       "  </thead>\n",
       "  <tbody>\n",
       "    <tr>\n",
       "      <th>0</th>\n",
       "      <td>438194351</td>\n",
       "      <td>26872544</td>\n",
       "      <td>84628234</td>\n",
       "      <td>Passenger</td>\n",
       "      <td>31.0</td>\n",
       "      <td>N</td>\n",
       "      <td>N</td>\n",
       "      <td>N</td>\n",
       "      <td>2275009</td>\n",
       "      <td>Passenger Car/automobile</td>\n",
       "      <td>N</td>\n",
       "      <td>VA</td>\n",
       "      <td>Y</td>\n",
       "      <td>N</td>\n",
       "    </tr>\n",
       "    <tr>\n",
       "      <th>1</th>\n",
       "      <td>438194352</td>\n",
       "      <td>26872544</td>\n",
       "      <td>84833902</td>\n",
       "      <td>Passenger</td>\n",
       "      <td>31.0</td>\n",
       "      <td>N</td>\n",
       "      <td>N</td>\n",
       "      <td>N</td>\n",
       "      <td>2275009</td>\n",
       "      <td>Passenger Car/automobile</td>\n",
       "      <td>N</td>\n",
       "      <td>VA</td>\n",
       "      <td>Y</td>\n",
       "      <td>N</td>\n",
       "    </tr>\n",
       "    <tr>\n",
       "      <th>3</th>\n",
       "      <td>438194354</td>\n",
       "      <td>26872544</td>\n",
       "      <td>84790164</td>\n",
       "      <td>Driver</td>\n",
       "      <td>31.0</td>\n",
       "      <td>N</td>\n",
       "      <td>N</td>\n",
       "      <td>N</td>\n",
       "      <td>2275009</td>\n",
       "      <td>Passenger Car/automobile</td>\n",
       "      <td>N</td>\n",
       "      <td>VA</td>\n",
       "      <td>N</td>\n",
       "      <td>N</td>\n",
       "    </tr>\n",
       "    <tr>\n",
       "      <th>4</th>\n",
       "      <td>438194355</td>\n",
       "      <td>26872544</td>\n",
       "      <td>84953497</td>\n",
       "      <td>Passenger</td>\n",
       "      <td>47.0</td>\n",
       "      <td>N</td>\n",
       "      <td>N</td>\n",
       "      <td>Y</td>\n",
       "      <td>2275008</td>\n",
       "      <td>Passenger Car/automobile</td>\n",
       "      <td>N</td>\n",
       "      <td>VA</td>\n",
       "      <td>Y</td>\n",
       "      <td>N</td>\n",
       "    </tr>\n",
       "    <tr>\n",
       "      <th>5</th>\n",
       "      <td>438194356</td>\n",
       "      <td>26872544</td>\n",
       "      <td>85038077</td>\n",
       "      <td>Driver</td>\n",
       "      <td>63.0</td>\n",
       "      <td>N</td>\n",
       "      <td>N</td>\n",
       "      <td>N</td>\n",
       "      <td>2275008</td>\n",
       "      <td>Passenger Car/automobile</td>\n",
       "      <td>N</td>\n",
       "      <td>VA</td>\n",
       "      <td>N</td>\n",
       "      <td>N</td>\n",
       "    </tr>\n",
       "  </tbody>\n",
       "</table>\n",
       "</div>"
      ],
      "text/plain": [
       "    OBJECTID   CRIMEID  PERSONID PERSONTYPE   AGE FATAL MAJORINJURY  \\\n",
       "0  438194351  26872544  84628234  Passenger  31.0     N           N   \n",
       "1  438194352  26872544  84833902  Passenger  31.0     N           N   \n",
       "3  438194354  26872544  84790164     Driver  31.0     N           N   \n",
       "4  438194355  26872544  84953497  Passenger  47.0     N           N   \n",
       "5  438194356  26872544  85038077     Driver  63.0     N           N   \n",
       "\n",
       "  MINORINJURY VEHICLEID             INVEHICLETYPE TICKETISSUED  \\\n",
       "0           N   2275009  Passenger Car/automobile            N   \n",
       "1           N   2275009  Passenger Car/automobile            N   \n",
       "3           N   2275009  Passenger Car/automobile            N   \n",
       "4           Y   2275008  Passenger Car/automobile            N   \n",
       "5           N   2275008  Passenger Car/automobile            N   \n",
       "\n",
       "  LICENSEPLATESTATE IMPAIRED SPEEDING  \n",
       "0                VA        Y        N  \n",
       "1                VA        Y        N  \n",
       "3                VA        N        N  \n",
       "4                VA        Y        N  \n",
       "5                VA        N        N  "
      ]
     },
     "execution_count": 6,
     "metadata": {},
     "output_type": "execute_result"
    }
   ],
   "source": [
    "# Display updated dataframe\n",
    "crash_data.head()"
   ]
  },
  {
   "cell_type": "code",
   "execution_count": 7,
   "metadata": {},
   "outputs": [
    {
     "data": {
      "text/plain": [
       "OBJECTID             0\n",
       "CRIMEID              0\n",
       "PERSONID             0\n",
       "PERSONTYPE           0\n",
       "AGE                  0\n",
       "FATAL                0\n",
       "MAJORINJURY          0\n",
       "MINORINJURY          0\n",
       "VEHICLEID            0\n",
       "INVEHICLETYPE        0\n",
       "TICKETISSUED         0\n",
       "LICENSEPLATESTATE    0\n",
       "IMPAIRED             0\n",
       "SPEEDING             0\n",
       "dtype: int64"
      ]
     },
     "execution_count": 7,
     "metadata": {},
     "output_type": "execute_result"
    }
   ],
   "source": [
    "# Check for null values in updated dataframe\n",
    "crash_data.isnull().sum(axis = 0)"
   ]
  },
  {
   "cell_type": "markdown",
   "metadata": {},
   "source": [
    "### EDA\n",
    "\n",
    "Now that the data has been pre-processed, it is ready for some EDA to get an idea of the nature of the data."
   ]
  },
  {
   "cell_type": "code",
   "execution_count": 8,
   "metadata": {},
   "outputs": [],
   "source": [
    "crash_data_fatal = crash_data.loc[crash_data['FATAL'] == 'Y']\n",
    "crash_data_non_fatal = crash_data.loc[crash_data['FATAL'] == 'N']"
   ]
  },
  {
   "cell_type": "code",
   "execution_count": 12,
   "metadata": {},
   "outputs": [
    {
     "data": {
      "image/png": "[encoded data removed]",
      "text/plain": [
       "<Figure size 1008x432 with 2 Axes>"
      ]
     },
     "metadata": {
      "needs_background": "light"
     },
     "output_type": "display_data"
    }
   ],
   "source": [
    "plt.figure(figsize=(14,6))\n",
    "plt.subplot(1,2,1)\n",
    "crash_data_fatal['PERSONTYPE'].value_counts().plot(kind='bar')\n",
    "plt.xlabel('Person Type')\n",
    "plt.ylabel('Total People')\n",
    "plt.title('Type of Person Involved in Crashes - Fatal')\n",
    "plt.xticks(rotation = 45)\n",
    "\n",
    "plt.subplot(1,2,2)\n",
    "crash_data_non_fatal['PERSONTYPE'].value_counts().plot(kind='bar')\n",
    "plt.xlabel('Person Type')\n",
    "plt.ylabel('Total People')\n",
    "plt.title('Type of Person Involved in Crashes - Non-Fatal')\n",
    "plt.xticks(rotation = 45)\n",
    "\n",
    "plt.subplots_adjust(wspace=0.4)\n",
    "plt.show()"
   ]
  },
  {
   "cell_type": "markdown",
   "metadata": {},
   "source": [
    "The graph above shows that the driver is the type of person which is overwhelmingly involved in crashes. However, when it comes to fatal crashes, there is a higher percentage of pedestrians, passengers and cyclists involved. This difference is most noteable in the proportion of pedestrian involved in fatal crashes, which makes sense as pedestrians are very unprotected and if they are hit my a moving vehicle they are more likely to die."
   ]
  },
  {
   "cell_type": "code",
   "execution_count": 14,
   "metadata": {},
   "outputs": [
    {
     "name": "stderr",
     "output_type": "stream",
     "text": [
      "C:\\Users\\12023\\anaconda3\\lib\\site-packages\\ipykernel_launcher.py:4: SettingWithCopyWarning: \n",
      "A value is trying to be set on a copy of a slice from a DataFrame.\n",
      "Try using .loc[row_indexer,col_indexer] = value instead\n",
      "\n",
      "See the caveats in the documentation: https://pandas.pydata.org/pandas-docs/stable/user_guide/indexing.html#returning-a-view-versus-a-copy\n",
      "  after removing the cwd from sys.path.\n",
      "C:\\Users\\12023\\anaconda3\\lib\\site-packages\\ipykernel_launcher.py:5: SettingWithCopyWarning: \n",
      "A value is trying to be set on a copy of a slice from a DataFrame.\n",
      "Try using .loc[row_indexer,col_indexer] = value instead\n",
      "\n",
      "See the caveats in the documentation: https://pandas.pydata.org/pandas-docs/stable/user_guide/indexing.html#returning-a-view-versus-a-copy\n",
      "  \"\"\"\n"
     ]
    },
    {
     "data": {
      "image/png": "[encoded data removed]",
      "text/plain": [
       "<Figure size 1008x432 with 2 Axes>"
      ]
     },
     "metadata": {
      "needs_background": "light"
     },
     "output_type": "display_data"
    }
   ],
   "source": [
    "# Sort ages in age groups\n",
    "bins = [0, 18, 30, 40, 50, 60, 70, 120]\n",
    "labels = ['0-17', '18-29', '30-39', '40-49', '50-59', '60-69', '70+']\n",
    "crash_data_fatal['AGE GROUP'] = pd.cut(crash_data_fatal.AGE, bins, labels = labels, include_lowest = True)\n",
    "crash_data_non_fatal['AGE GROUP'] = pd.cut(crash_data_non_fatal.AGE, bins, labels = labels, include_lowest = True)\n",
    "\n",
    "\n",
    "plt.figure(figsize=(14,6))\n",
    "plt.subplot(1,2,1)\n",
    "crash_data_fatal['AGE GROUP'].value_counts().plot(kind='bar')\n",
    "plt.xlabel('Age Group')\n",
    "plt.ylabel('Total People')\n",
    "plt.title('People Involved in Crashes by Age Group \\n Fatal')\n",
    "plt.xticks(rotation = 45)\n",
    "\n",
    "plt.subplot(1,2,2)\n",
    "crash_data_non_fatal['AGE GROUP'].value_counts().plot(kind='bar')\n",
    "plt.xlabel('Age Group')\n",
    "plt.ylabel('Total People')\n",
    "plt.title('People Involved in Crashes by Age Group \\n Non-Fatal')\n",
    "plt.xticks(rotation = 45)\n",
    "\n",
    "plt.subplots_adjust(wspace=0.4)\n",
    "plt.show()"
   ]
  },
  {
   "cell_type": "markdown",
   "metadata": {},
   "source": [
    "The graph above shows that those in the ages between 18 and 29 are involved in the most crashes, and those who are 70+ are involved in the fewest crashes. The pattern is almost the same for fatal vs non fatal crashes, with the main differences being that 50-59 year olds are more likely to be involved in fatal crashes when, along with 70+ year olds. "
   ]
  },
  {
   "cell_type": "code",
   "execution_count": 22,
   "metadata": {
    "scrolled": false
   },
   "outputs": [
    {
     "data": {
      "image/png": "[encoded data removed]",
      "text/plain": [
       "<Figure size 1008x432 with 2 Axes>"
      ]
     },
     "metadata": {
      "needs_background": "light"
     },
     "output_type": "display_data"
    }
   ],
   "source": [
    "plt.figure(figsize=(14,6))\n",
    "plt.subplot(1,2,1)\n",
    "crash_data_fatal['INVEHICLETYPE'].value_counts(ascending = True).tail().plot(kind='barh')\n",
    "plt.xlabel('Total Vehicles')\n",
    "plt.ylabel('Vehicle Type')\n",
    "plt.title('Crashes by Type of Vehicle \\n Fatal')\n",
    "\n",
    "plt.subplot(1,2,2)\n",
    "crash_data_non_fatal['INVEHICLETYPE'].value_counts(ascending = True).tail().plot(kind='barh')\n",
    "plt.xlabel('Total Vehicles')\n",
    "plt.ylabel('Vehicle Type')\n",
    "plt.title('Crashes by Type of Vehicle \\n Non-Fatal')\n",
    "\n",
    "plt.subplots_adjust(wspace=0.75)\n",
    "plt.show()"
   ]
  },
  {
   "cell_type": "markdown",
   "metadata": {},
   "source": [
    "The graph above shows that passenger cars/automobiles is the type of vehicle that is overwhelmingly involved in crashes. The biggest difference is that for fatal crashes, there is a much higher percentage of people who are not in a vehicle or on a motorcycle. This makes sense as those types of vehicles have a lot less protection."
   ]
  },
  {
   "cell_type": "code",
   "execution_count": 38,
   "metadata": {},
   "outputs": [],
   "source": [
    "def pie_plotter(metric):\n",
    "    explode = (0.0, 0.7)\n",
    "    \n",
    "    labels = ['No', 'Yes']\n",
    "\n",
    "    plt.figure(figsize = (8,6))\n",
    "    crash_data[metric].value_counts().plot(kind='pie', labels = labels, explode = explode, autopct = '%0.3f%%', textprops={'fontsize': 18})\n",
    "    plt.ylabel('')\n",
    "    plt.title('Pie Chart Showing Proportion of ' + metric + ' Crashes', fontsize = 22)\n",
    "    plt.show()"
   ]
  },
  {
   "cell_type": "code",
   "execution_count": 39,
   "metadata": {},
   "outputs": [
    {
     "data": {
      "image/png": "[encoded data removed]",
      "text/plain": [
       "<Figure size 576x432 with 1 Axes>"
      ]
     },
     "metadata": {},
     "output_type": "display_data"
    }
   ],
   "source": [
    "pie_plotter('FATAL')"
   ]
  },
  {
   "cell_type": "code",
   "execution_count": 40,
   "metadata": {},
   "outputs": [
    {
     "data": {
      "image/png": "[encoded data removed]",
      "text/plain": [
       "<Figure size 576x432 with 1 Axes>"
      ]
     },
     "metadata": {},
     "output_type": "display_data"
    }
   ],
   "source": [
    "pie_plotter('MAJORINJURY')"
   ]
  },
  {
   "cell_type": "code",
   "execution_count": 41,
   "metadata": {},
   "outputs": [
    {
     "data": {
      "image/png": "[encoded data removed]",
      "text/plain": [
       "<Figure size 576x432 with 1 Axes>"
      ]
     },
     "metadata": {},
     "output_type": "display_data"
    }
   ],
   "source": [
    "pie_plotter('MINORINJURY')"
   ]
  },
  {
   "cell_type": "code",
   "execution_count": 27,
   "metadata": {},
   "outputs": [
    {
     "data": {
      "image/png": "[encoded data removed]",
      "text/plain": [
       "<Figure size 720x720 with 2 Axes>"
      ]
     },
     "metadata": {},
     "output_type": "display_data"
    }
   ],
   "source": [
    "explode = (0.0, 0.2)\n",
    "fig, (ax1,ax2) = plt.subplots(1,2,figsize=(10,10))\n",
    "\n",
    "labels = ['No', 'Yes']\n",
    "values = crash_data_fatal['TICKETISSUED'].value_counts()\n",
    "ax1.pie(values, labels = labels, explode = explode, autopct = '%0.3f%%', textprops={'fontsize': 14})\n",
    "ax1.set_title('Fatal Crashes Ticket Issues')\n",
    "\n",
    "values = crash_data_non_fatal['TICKETISSUED'].value_counts()\n",
    "ax2.pie(values, labels = labels, explode = explode, autopct = '%0.3f%%', textprops={'fontsize': 14})\n",
    "ax2.set_title('Non Fatal Crashes Ticket Issues')\n",
    "\n",
    "plt.suptitle('Percentage of Tickets Issues, Fatal Vs Non Fatal Crashes', y = 0.76, fontsize = 14)\n",
    "plt.show()"
   ]
  },
  {
   "cell_type": "code",
   "execution_count": 28,
   "metadata": {},
   "outputs": [
    {
     "data": {
      "image/png": "[encoded data removed]",
      "text/plain": [
       "<Figure size 720x720 with 2 Axes>"
      ]
     },
     "metadata": {},
     "output_type": "display_data"
    }
   ],
   "source": [
    "fig, (ax1,ax2) = plt.subplots(1,2,figsize=(10,10))\n",
    "\n",
    "labels = ['No', 'Yes']\n",
    "values = crash_data_fatal['IMPAIRED'].value_counts()\n",
    "ax1.pie(values, labels = labels, explode = explode, autopct = '%0.3f%%', textprops={'fontsize': 14})\n",
    "ax1.set_title('Fatal Crashes Impaired')\n",
    "\n",
    "values = crash_data_non_fatal['IMPAIRED'].value_counts()\n",
    "ax2.pie(values, labels = labels, explode = explode, autopct = '%0.3f%%', textprops={'fontsize': 14})\n",
    "ax2.set_title('Non Fatal Crashes Impaired')\n",
    "\n",
    "plt.suptitle('Percentage of Impaired Persons Involed in Crashes, Fatal Vs Non Fatal Crashes', y = 0.76, fontsize = 14)\n",
    "plt.show()"
   ]
  },
  {
   "cell_type": "code",
   "execution_count": 29,
   "metadata": {},
   "outputs": [
    {
     "data": {
      "image/png": "[encoded data removed]",
      "text/plain": [
       "<Figure size 720x720 with 2 Axes>"
      ]
     },
     "metadata": {},
     "output_type": "display_data"
    }
   ],
   "source": [
    "fig, (ax1,ax2) = plt.subplots(1,2,figsize=(10,10))\n",
    "\n",
    "labels = ['No', 'Yes']\n",
    "values = crash_data_fatal['SPEEDING'].value_counts()\n",
    "ax1.pie(values, labels = labels, explode = explode, autopct = '%0.3f%%', textprops={'fontsize': 14})\n",
    "ax1.set_title('Fatal Crashes Speeding')\n",
    "\n",
    "values = crash_data_non_fatal['IMPAIRED'].value_counts()\n",
    "ax2.pie(values, labels = labels, explode = explode, autopct = '%0.3f%%', textprops={'fontsize': 14})\n",
    "ax2.set_title('Non Fatal Crashes Speeding')\n",
    "\n",
    "plt.suptitle('Percentage of Those Involed in Crashes who Were Speeding, Fatal Vs Non Fatal Crashes', y = 0.76, fontsize = 14)\n",
    "plt.show()"
   ]
  },
  {
   "cell_type": "code",
   "execution_count": 30,
   "metadata": {},
   "outputs": [
    {
     "data": {
      "image/png": "[encoded data removed]",
      "text/plain": [
       "<Figure size 720x576 with 2 Axes>"
      ]
     },
     "metadata": {
      "needs_background": "light"
     },
     "output_type": "display_data"
    }
   ],
   "source": [
    "plt.figure(figsize=(10,8))\n",
    "plt.subplot(2,1,1)\n",
    "crash_data_fatal['LICENSEPLATESTATE'].value_counts(ascending = False)[:5].plot(\n",
    "    kind='bar', color = ['blue', 'red', 'yellow', 'green', 'grey'])\n",
    "plt.xlabel('Vehicle License Plate State')\n",
    "plt.ylabel('Total Vehicles')\n",
    "plt.title('Crashes by Top 5 Vehicle License Plate State - Fatal')\n",
    "plt.xticks(rotation = 45)\n",
    "\n",
    "plt.subplot(2,1,2)\n",
    "crash_data_non_fatal['LICENSEPLATESTATE'].value_counts(ascending = False)[:5].plot(\n",
    "    kind='bar', color = ['blue', 'yellow', 'green', 'red', 'black'])\n",
    "plt.xlabel('Vehicle License Plate State')\n",
    "plt.ylabel('Total Vehicles')\n",
    "plt.title('Crashes by Top 5 Vehicle License Plate State - Non-Fatal')\n",
    "plt.xticks(rotation = 45)\n",
    "\n",
    "plt.subplots_adjust(hspace=0.6)\n",
    "plt.show()"
   ]
  },
  {
   "cell_type": "markdown",
   "metadata": {},
   "source": [
    "The graph above shows how for fatal crashes, the majority of crashes involves vehicles from the DMV are or unplated vehicles. For non-fatal crashes, the overall compisition of the origin of the vechicles is almost the same; there is a huge difference in that there is a much higher percentage of drives without plates who get involved in fatal crashes. This is probably due to the fact that unplated cars tend to be involved in illegal activity and are also more likely to be speeding and/or driving recklessly."
   ]
  },
  {
   "cell_type": "markdown",
   "metadata": {},
   "source": [
    "### Hyperparameter Tuning / Model Selection\n",
    "\n",
    "This section will look at the preprocessing for the Hyperparameter Tuning / Model Selection, the actual Hyperparameter and then the Model Selection based on a number of different models. The best predictors will then be identified to determine whether a not a crash will be fatal."
   ]
  },
  {
   "cell_type": "code",
   "execution_count": 42,
   "metadata": {},
   "outputs": [],
   "source": [
    "# Remove the identifiers which are not relevant for the model\n",
    "crash_data = crash_data.drop(columns = ['CRIMEID', 'OBJECTID', 'PERSONID', 'VEHICLEID'])"
   ]
  },
  {
   "cell_type": "code",
   "execution_count": 43,
   "metadata": {},
   "outputs": [],
   "source": [
    "# Set the yes/no in the target variables to 1s and 0s\n",
    "crash_data.FATAL = crash_data.FATAL.map(dict(Y=1, N = 0))"
   ]
  },
  {
   "cell_type": "code",
   "execution_count": 44,
   "metadata": {},
   "outputs": [],
   "source": [
    "# Setting Target\n",
    "target = 'FATAL'"
   ]
  },
  {
   "cell_type": "code",
   "execution_count": 45,
   "metadata": {},
   "outputs": [],
   "source": [
    "# Divide the data into training (80%) and test (20%)\n",
    "df_train, df_test = train_test_split(crash_data, train_size=0.8)"
   ]
  },
  {
   "cell_type": "code",
   "execution_count": 46,
   "metadata": {},
   "outputs": [],
   "source": [
    "# Drop the target variable in the testing set\n",
    "df_test = df_test.drop(columns = 'FATAL')"
   ]
  },
  {
   "cell_type": "code",
   "execution_count": 47,
   "metadata": {},
   "outputs": [],
   "source": [
    "# Divide the training data into training (80%) and validation (20%)\n",
    "df_train, df_valid = train_test_split(df_train, train_size=0.8, random_state=42, stratify=df_train[target])"
   ]
  },
  {
   "cell_type": "code",
   "execution_count": 48,
   "metadata": {
    "scrolled": true
   },
   "outputs": [
    {
     "data": {
      "text/html": [
       "<div>\n",
       "<style scoped>\n",
       "    .dataframe tbody tr th:only-of-type {\n",
       "        vertical-align: middle;\n",
       "    }\n",
       "\n",
       "    .dataframe tbody tr th {\n",
       "        vertical-align: top;\n",
       "    }\n",
       "\n",
       "    .dataframe thead th {\n",
       "        text-align: right;\n",
       "    }\n",
       "</style>\n",
       "<table border=\"1\" class=\"dataframe\">\n",
       "  <thead>\n",
       "    <tr style=\"text-align: right;\">\n",
       "      <th></th>\n",
       "      <th>PERSONTYPE</th>\n",
       "      <th>AGE</th>\n",
       "      <th>FATAL</th>\n",
       "      <th>MAJORINJURY</th>\n",
       "      <th>MINORINJURY</th>\n",
       "      <th>INVEHICLETYPE</th>\n",
       "      <th>TICKETISSUED</th>\n",
       "      <th>LICENSEPLATESTATE</th>\n",
       "      <th>IMPAIRED</th>\n",
       "      <th>SPEEDING</th>\n",
       "    </tr>\n",
       "  </thead>\n",
       "  <tbody>\n",
       "    <tr>\n",
       "      <th>19097</th>\n",
       "      <td>Driver</td>\n",
       "      <td>32.0</td>\n",
       "      <td>0</td>\n",
       "      <td>N</td>\n",
       "      <td>N</td>\n",
       "      <td>Passenger Car/automobile</td>\n",
       "      <td>N</td>\n",
       "      <td>TX</td>\n",
       "      <td>N</td>\n",
       "      <td>N</td>\n",
       "    </tr>\n",
       "    <tr>\n",
       "      <th>539001</th>\n",
       "      <td>Driver</td>\n",
       "      <td>32.0</td>\n",
       "      <td>0</td>\n",
       "      <td>N</td>\n",
       "      <td>N</td>\n",
       "      <td>Passenger Van</td>\n",
       "      <td>Y</td>\n",
       "      <td>PA</td>\n",
       "      <td>N</td>\n",
       "      <td>N</td>\n",
       "    </tr>\n",
       "    <tr>\n",
       "      <th>371351</th>\n",
       "      <td>Driver</td>\n",
       "      <td>53.0</td>\n",
       "      <td>0</td>\n",
       "      <td>N</td>\n",
       "      <td>N</td>\n",
       "      <td>Other Vehicle</td>\n",
       "      <td>N</td>\n",
       "      <td>DC</td>\n",
       "      <td>N</td>\n",
       "      <td>N</td>\n",
       "    </tr>\n",
       "    <tr>\n",
       "      <th>89289</th>\n",
       "      <td>Driver</td>\n",
       "      <td>27.0</td>\n",
       "      <td>0</td>\n",
       "      <td>N</td>\n",
       "      <td>N</td>\n",
       "      <td>Passenger Car/automobile</td>\n",
       "      <td>Y</td>\n",
       "      <td>VA</td>\n",
       "      <td>N</td>\n",
       "      <td>N</td>\n",
       "    </tr>\n",
       "    <tr>\n",
       "      <th>73452</th>\n",
       "      <td>Driver</td>\n",
       "      <td>25.0</td>\n",
       "      <td>0</td>\n",
       "      <td>N</td>\n",
       "      <td>N</td>\n",
       "      <td>Passenger Car/automobile</td>\n",
       "      <td>Y</td>\n",
       "      <td>MD</td>\n",
       "      <td>N</td>\n",
       "      <td>N</td>\n",
       "    </tr>\n",
       "  </tbody>\n",
       "</table>\n",
       "</div>"
      ],
      "text/plain": [
       "       PERSONTYPE   AGE  FATAL MAJORINJURY MINORINJURY  \\\n",
       "19097      Driver  32.0      0           N           N   \n",
       "539001     Driver  32.0      0           N           N   \n",
       "371351     Driver  53.0      0           N           N   \n",
       "89289      Driver  27.0      0           N           N   \n",
       "73452      Driver  25.0      0           N           N   \n",
       "\n",
       "                   INVEHICLETYPE TICKETISSUED LICENSEPLATESTATE IMPAIRED  \\\n",
       "19097   Passenger Car/automobile            N                TX        N   \n",
       "539001             Passenger Van            Y                PA        N   \n",
       "371351             Other Vehicle            N                DC        N   \n",
       "89289   Passenger Car/automobile            Y                VA        N   \n",
       "73452   Passenger Car/automobile            Y                MD        N   \n",
       "\n",
       "       SPEEDING  \n",
       "19097         N  \n",
       "539001        N  \n",
       "371351        N  \n",
       "89289         N  \n",
       "73452         N  "
      ]
     },
     "execution_count": 48,
     "metadata": {},
     "output_type": "execute_result"
    }
   ],
   "source": [
    "df_train.head()"
   ]
  },
  {
   "cell_type": "code",
   "execution_count": 49,
   "metadata": {},
   "outputs": [
    {
     "data": {
      "text/html": [
       "<div>\n",
       "<style scoped>\n",
       "    .dataframe tbody tr th:only-of-type {\n",
       "        vertical-align: middle;\n",
       "    }\n",
       "\n",
       "    .dataframe tbody tr th {\n",
       "        vertical-align: top;\n",
       "    }\n",
       "\n",
       "    .dataframe thead th {\n",
       "        text-align: right;\n",
       "    }\n",
       "</style>\n",
       "<table border=\"1\" class=\"dataframe\">\n",
       "  <thead>\n",
       "    <tr style=\"text-align: right;\">\n",
       "      <th></th>\n",
       "      <th>PERSONTYPE</th>\n",
       "      <th>AGE</th>\n",
       "      <th>FATAL</th>\n",
       "      <th>MAJORINJURY</th>\n",
       "      <th>MINORINJURY</th>\n",
       "      <th>INVEHICLETYPE</th>\n",
       "      <th>TICKETISSUED</th>\n",
       "      <th>LICENSEPLATESTATE</th>\n",
       "      <th>IMPAIRED</th>\n",
       "      <th>SPEEDING</th>\n",
       "    </tr>\n",
       "  </thead>\n",
       "  <tbody>\n",
       "    <tr>\n",
       "      <th>119115</th>\n",
       "      <td>Passenger</td>\n",
       "      <td>44.0</td>\n",
       "      <td>0</td>\n",
       "      <td>N</td>\n",
       "      <td>N</td>\n",
       "      <td>Passenger Car/automobile</td>\n",
       "      <td>N</td>\n",
       "      <td>VA</td>\n",
       "      <td>N</td>\n",
       "      <td>N</td>\n",
       "    </tr>\n",
       "    <tr>\n",
       "      <th>275135</th>\n",
       "      <td>Driver</td>\n",
       "      <td>39.0</td>\n",
       "      <td>0</td>\n",
       "      <td>Y</td>\n",
       "      <td>N</td>\n",
       "      <td>Other Vehicle</td>\n",
       "      <td>N</td>\n",
       "      <td>None</td>\n",
       "      <td>N</td>\n",
       "      <td>N</td>\n",
       "    </tr>\n",
       "    <tr>\n",
       "      <th>445113</th>\n",
       "      <td>Driver</td>\n",
       "      <td>52.0</td>\n",
       "      <td>0</td>\n",
       "      <td>N</td>\n",
       "      <td>N</td>\n",
       "      <td>Passenger Car/automobile</td>\n",
       "      <td>Y</td>\n",
       "      <td>DC</td>\n",
       "      <td>N</td>\n",
       "      <td>N</td>\n",
       "    </tr>\n",
       "    <tr>\n",
       "      <th>417629</th>\n",
       "      <td>Driver</td>\n",
       "      <td>22.0</td>\n",
       "      <td>0</td>\n",
       "      <td>N</td>\n",
       "      <td>N</td>\n",
       "      <td>Passenger Car/automobile</td>\n",
       "      <td>N</td>\n",
       "      <td>None</td>\n",
       "      <td>N</td>\n",
       "      <td>N</td>\n",
       "    </tr>\n",
       "    <tr>\n",
       "      <th>559268</th>\n",
       "      <td>Driver</td>\n",
       "      <td>25.0</td>\n",
       "      <td>0</td>\n",
       "      <td>N</td>\n",
       "      <td>N</td>\n",
       "      <td>Passenger Car/automobile</td>\n",
       "      <td>Y</td>\n",
       "      <td>MD</td>\n",
       "      <td>N</td>\n",
       "      <td>N</td>\n",
       "    </tr>\n",
       "  </tbody>\n",
       "</table>\n",
       "</div>"
      ],
      "text/plain": [
       "       PERSONTYPE   AGE  FATAL MAJORINJURY MINORINJURY  \\\n",
       "119115  Passenger  44.0      0           N           N   \n",
       "275135     Driver  39.0      0           Y           N   \n",
       "445113     Driver  52.0      0           N           N   \n",
       "417629     Driver  22.0      0           N           N   \n",
       "559268     Driver  25.0      0           N           N   \n",
       "\n",
       "                   INVEHICLETYPE TICKETISSUED LICENSEPLATESTATE IMPAIRED  \\\n",
       "119115  Passenger Car/automobile            N                VA        N   \n",
       "275135             Other Vehicle            N              None        N   \n",
       "445113  Passenger Car/automobile            Y                DC        N   \n",
       "417629  Passenger Car/automobile            N              None        N   \n",
       "559268  Passenger Car/automobile            Y                MD        N   \n",
       "\n",
       "       SPEEDING  \n",
       "119115        N  \n",
       "275135        N  \n",
       "445113        N  \n",
       "417629        N  \n",
       "559268        N  "
      ]
     },
     "execution_count": 49,
     "metadata": {},
     "output_type": "execute_result"
    }
   ],
   "source": [
    "df_valid.head()"
   ]
  },
  {
   "cell_type": "code",
   "execution_count": 50,
   "metadata": {},
   "outputs": [
    {
     "data": {
      "text/html": [
       "<div>\n",
       "<style scoped>\n",
       "    .dataframe tbody tr th:only-of-type {\n",
       "        vertical-align: middle;\n",
       "    }\n",
       "\n",
       "    .dataframe tbody tr th {\n",
       "        vertical-align: top;\n",
       "    }\n",
       "\n",
       "    .dataframe thead th {\n",
       "        text-align: right;\n",
       "    }\n",
       "</style>\n",
       "<table border=\"1\" class=\"dataframe\">\n",
       "  <thead>\n",
       "    <tr style=\"text-align: right;\">\n",
       "      <th></th>\n",
       "      <th>PERSONTYPE</th>\n",
       "      <th>AGE</th>\n",
       "      <th>MAJORINJURY</th>\n",
       "      <th>MINORINJURY</th>\n",
       "      <th>INVEHICLETYPE</th>\n",
       "      <th>TICKETISSUED</th>\n",
       "      <th>LICENSEPLATESTATE</th>\n",
       "      <th>IMPAIRED</th>\n",
       "      <th>SPEEDING</th>\n",
       "    </tr>\n",
       "  </thead>\n",
       "  <tbody>\n",
       "    <tr>\n",
       "      <th>483997</th>\n",
       "      <td>Pedestrian</td>\n",
       "      <td>17.0</td>\n",
       "      <td>N</td>\n",
       "      <td>Y</td>\n",
       "      <td>None</td>\n",
       "      <td>N</td>\n",
       "      <td>None</td>\n",
       "      <td>N</td>\n",
       "      <td>N</td>\n",
       "    </tr>\n",
       "    <tr>\n",
       "      <th>152810</th>\n",
       "      <td>Driver</td>\n",
       "      <td>47.0</td>\n",
       "      <td>N</td>\n",
       "      <td>N</td>\n",
       "      <td>Suv (sport Utility Vehicle)</td>\n",
       "      <td>N</td>\n",
       "      <td>DC</td>\n",
       "      <td>N</td>\n",
       "      <td>N</td>\n",
       "    </tr>\n",
       "    <tr>\n",
       "      <th>99605</th>\n",
       "      <td>Driver</td>\n",
       "      <td>28.0</td>\n",
       "      <td>N</td>\n",
       "      <td>N</td>\n",
       "      <td>Other Vehicle</td>\n",
       "      <td>Y</td>\n",
       "      <td>DC</td>\n",
       "      <td>N</td>\n",
       "      <td>N</td>\n",
       "    </tr>\n",
       "    <tr>\n",
       "      <th>385341</th>\n",
       "      <td>Driver</td>\n",
       "      <td>21.0</td>\n",
       "      <td>N</td>\n",
       "      <td>N</td>\n",
       "      <td>Passenger Car/automobile</td>\n",
       "      <td>N</td>\n",
       "      <td>MD</td>\n",
       "      <td>N</td>\n",
       "      <td>N</td>\n",
       "    </tr>\n",
       "    <tr>\n",
       "      <th>488752</th>\n",
       "      <td>Passenger</td>\n",
       "      <td>59.0</td>\n",
       "      <td>N</td>\n",
       "      <td>N</td>\n",
       "      <td>Pickup Truck</td>\n",
       "      <td>N</td>\n",
       "      <td>DC</td>\n",
       "      <td>N</td>\n",
       "      <td>N</td>\n",
       "    </tr>\n",
       "  </tbody>\n",
       "</table>\n",
       "</div>"
      ],
      "text/plain": [
       "        PERSONTYPE   AGE MAJORINJURY MINORINJURY                INVEHICLETYPE  \\\n",
       "483997  Pedestrian  17.0           N           Y                         None   \n",
       "152810      Driver  47.0           N           N  Suv (sport Utility Vehicle)   \n",
       "99605       Driver  28.0           N           N                Other Vehicle   \n",
       "385341      Driver  21.0           N           N     Passenger Car/automobile   \n",
       "488752   Passenger  59.0           N           N                 Pickup Truck   \n",
       "\n",
       "       TICKETISSUED LICENSEPLATESTATE IMPAIRED SPEEDING  \n",
       "483997            N              None        N        N  \n",
       "152810            N                DC        N        N  \n",
       "99605             Y                DC        N        N  \n",
       "385341            N                MD        N        N  \n",
       "488752            N                DC        N        N  "
      ]
     },
     "execution_count": 50,
     "metadata": {},
     "output_type": "execute_result"
    }
   ],
   "source": [
    "df_test.head()"
   ]
  },
  {
   "cell_type": "code",
   "execution_count": 51,
   "metadata": {},
   "outputs": [
    {
     "name": "stdout",
     "output_type": "stream",
     "text": [
      "Training Set\n",
      "Number of Rows:  273116\n",
      "Number of Columns:  10\n"
     ]
    }
   ],
   "source": [
    "# Size of Training Set\n",
    "print('Training Set')\n",
    "print('Number of Rows: ', df_train.shape[0])\n",
    "print('Number of Columns: ', df_train.shape[1])"
   ]
  },
  {
   "cell_type": "code",
   "execution_count": 52,
   "metadata": {},
   "outputs": [
    {
     "name": "stdout",
     "output_type": "stream",
     "text": [
      "Validation\n",
      "Number of Rows:  68279\n",
      "Number of Columns:  10\n"
     ]
    }
   ],
   "source": [
    "# Size of Validation Set\n",
    "print('Validation')\n",
    "print('Number of Rows: ', df_valid.shape[0])\n",
    "print('Number of Columns: ', df_valid.shape[1])"
   ]
  },
  {
   "cell_type": "code",
   "execution_count": 53,
   "metadata": {},
   "outputs": [
    {
     "name": "stdout",
     "output_type": "stream",
     "text": [
      "Testing Set\n",
      "Number of Rows:  85349\n",
      "Number of Columns:  9\n"
     ]
    }
   ],
   "source": [
    "# Size of Testing Set\n",
    "print('Testing Set')\n",
    "print('Number of Rows: ', df_test.shape[0])\n",
    "print('Number of Columns: ', df_test.shape[1])"
   ]
  },
  {
   "cell_type": "code",
   "execution_count": 54,
   "metadata": {},
   "outputs": [],
   "source": [
    "# Combine df_train, df_valid and df_test\n",
    "df = pd.concat([df_train, df_valid, df_test], sort=False)"
   ]
  },
  {
   "cell_type": "code",
   "execution_count": 55,
   "metadata": {},
   "outputs": [],
   "source": [
    "def cat_var_checker(df):   \n",
    "    # Get the dataframe of categorical variables and their number of unique value\n",
    "    df_cat = pd.DataFrame([[var, df[var].nunique(dropna=False)]\n",
    "                           for var in df.columns if df[var].dtype == 'object'],\n",
    "                          columns=['var', 'nunique'])\n",
    "    \n",
    "    # Sort df_cat in accending order of the number of unique value\n",
    "    df_cat = df_cat.sort_values(by='nunique', ascending=False).reset_index(drop=True)\n",
    "    \n",
    "    return df_cat"
   ]
  },
  {
   "cell_type": "code",
   "execution_count": 56,
   "metadata": {},
   "outputs": [
    {
     "data": {
      "text/html": [
       "<div>\n",
       "<style scoped>\n",
       "    .dataframe tbody tr th:only-of-type {\n",
       "        vertical-align: middle;\n",
       "    }\n",
       "\n",
       "    .dataframe tbody tr th {\n",
       "        vertical-align: top;\n",
       "    }\n",
       "\n",
       "    .dataframe thead th {\n",
       "        text-align: right;\n",
       "    }\n",
       "</style>\n",
       "<table border=\"1\" class=\"dataframe\">\n",
       "  <thead>\n",
       "    <tr style=\"text-align: right;\">\n",
       "      <th></th>\n",
       "      <th>var</th>\n",
       "      <th>nunique</th>\n",
       "    </tr>\n",
       "  </thead>\n",
       "  <tbody>\n",
       "    <tr>\n",
       "      <th>0</th>\n",
       "      <td>LICENSEPLATESTATE</td>\n",
       "      <td>59</td>\n",
       "    </tr>\n",
       "    <tr>\n",
       "      <th>1</th>\n",
       "      <td>INVEHICLETYPE</td>\n",
       "      <td>22</td>\n",
       "    </tr>\n",
       "    <tr>\n",
       "      <th>2</th>\n",
       "      <td>PERSONTYPE</td>\n",
       "      <td>4</td>\n",
       "    </tr>\n",
       "    <tr>\n",
       "      <th>3</th>\n",
       "      <td>MAJORINJURY</td>\n",
       "      <td>2</td>\n",
       "    </tr>\n",
       "    <tr>\n",
       "      <th>4</th>\n",
       "      <td>MINORINJURY</td>\n",
       "      <td>2</td>\n",
       "    </tr>\n",
       "    <tr>\n",
       "      <th>5</th>\n",
       "      <td>TICKETISSUED</td>\n",
       "      <td>2</td>\n",
       "    </tr>\n",
       "    <tr>\n",
       "      <th>6</th>\n",
       "      <td>IMPAIRED</td>\n",
       "      <td>2</td>\n",
       "    </tr>\n",
       "    <tr>\n",
       "      <th>7</th>\n",
       "      <td>SPEEDING</td>\n",
       "      <td>2</td>\n",
       "    </tr>\n",
       "  </tbody>\n",
       "</table>\n",
       "</div>"
      ],
      "text/plain": [
       "                 var  nunique\n",
       "0  LICENSEPLATESTATE       59\n",
       "1      INVEHICLETYPE       22\n",
       "2         PERSONTYPE        4\n",
       "3        MAJORINJURY        2\n",
       "4        MINORINJURY        2\n",
       "5       TICKETISSUED        2\n",
       "6           IMPAIRED        2\n",
       "7           SPEEDING        2"
      ]
     },
     "execution_count": 56,
     "metadata": {},
     "output_type": "execute_result"
    }
   ],
   "source": [
    "# Call cat_var_checker on df\n",
    "df_cat = cat_var_checker(df)\n",
    "\n",
    "# Print the dataframe\n",
    "df_cat"
   ]
  },
  {
   "cell_type": "code",
   "execution_count": 57,
   "metadata": {},
   "outputs": [
    {
     "data": {
      "text/html": [
       "<div>\n",
       "<style scoped>\n",
       "    .dataframe tbody tr th:only-of-type {\n",
       "        vertical-align: middle;\n",
       "    }\n",
       "\n",
       "    .dataframe tbody tr th {\n",
       "        vertical-align: top;\n",
       "    }\n",
       "\n",
       "    .dataframe thead th {\n",
       "        text-align: right;\n",
       "    }\n",
       "</style>\n",
       "<table border=\"1\" class=\"dataframe\">\n",
       "  <thead>\n",
       "    <tr style=\"text-align: right;\">\n",
       "      <th></th>\n",
       "      <th>AGE</th>\n",
       "      <th>FATAL</th>\n",
       "      <th>IMPAIRED_N</th>\n",
       "      <th>IMPAIRED_Y</th>\n",
       "      <th>INVEHICLETYPE_Aircraft</th>\n",
       "      <th>INVEHICLETYPE_Atv (all Terrain Vehicle)</th>\n",
       "      <th>INVEHICLETYPE_Bus</th>\n",
       "      <th>INVEHICLETYPE_Cargo Van</th>\n",
       "      <th>INVEHICLETYPE_Construction/industrial Equipment</th>\n",
       "      <th>INVEHICLETYPE_Drugs/ Narcotics</th>\n",
       "      <th>...</th>\n",
       "      <th>MINORINJURY_N</th>\n",
       "      <th>MINORINJURY_Y</th>\n",
       "      <th>PERSONTYPE_Bicyclist</th>\n",
       "      <th>PERSONTYPE_Driver</th>\n",
       "      <th>PERSONTYPE_Passenger</th>\n",
       "      <th>PERSONTYPE_Pedestrian</th>\n",
       "      <th>SPEEDING_N</th>\n",
       "      <th>SPEEDING_Y</th>\n",
       "      <th>TICKETISSUED_N</th>\n",
       "      <th>TICKETISSUED_Y</th>\n",
       "    </tr>\n",
       "  </thead>\n",
       "  <tbody>\n",
       "    <tr>\n",
       "      <th>19097</th>\n",
       "      <td>32.0</td>\n",
       "      <td>0.0</td>\n",
       "      <td>1</td>\n",
       "      <td>0</td>\n",
       "      <td>0</td>\n",
       "      <td>0</td>\n",
       "      <td>0</td>\n",
       "      <td>0</td>\n",
       "      <td>0</td>\n",
       "      <td>0</td>\n",
       "      <td>...</td>\n",
       "      <td>1</td>\n",
       "      <td>0</td>\n",
       "      <td>0</td>\n",
       "      <td>1</td>\n",
       "      <td>0</td>\n",
       "      <td>0</td>\n",
       "      <td>1</td>\n",
       "      <td>0</td>\n",
       "      <td>1</td>\n",
       "      <td>0</td>\n",
       "    </tr>\n",
       "    <tr>\n",
       "      <th>539001</th>\n",
       "      <td>32.0</td>\n",
       "      <td>0.0</td>\n",
       "      <td>1</td>\n",
       "      <td>0</td>\n",
       "      <td>0</td>\n",
       "      <td>0</td>\n",
       "      <td>0</td>\n",
       "      <td>0</td>\n",
       "      <td>0</td>\n",
       "      <td>0</td>\n",
       "      <td>...</td>\n",
       "      <td>1</td>\n",
       "      <td>0</td>\n",
       "      <td>0</td>\n",
       "      <td>1</td>\n",
       "      <td>0</td>\n",
       "      <td>0</td>\n",
       "      <td>1</td>\n",
       "      <td>0</td>\n",
       "      <td>0</td>\n",
       "      <td>1</td>\n",
       "    </tr>\n",
       "    <tr>\n",
       "      <th>371351</th>\n",
       "      <td>53.0</td>\n",
       "      <td>0.0</td>\n",
       "      <td>1</td>\n",
       "      <td>0</td>\n",
       "      <td>0</td>\n",
       "      <td>0</td>\n",
       "      <td>0</td>\n",
       "      <td>0</td>\n",
       "      <td>0</td>\n",
       "      <td>0</td>\n",
       "      <td>...</td>\n",
       "      <td>1</td>\n",
       "      <td>0</td>\n",
       "      <td>0</td>\n",
       "      <td>1</td>\n",
       "      <td>0</td>\n",
       "      <td>0</td>\n",
       "      <td>1</td>\n",
       "      <td>0</td>\n",
       "      <td>1</td>\n",
       "      <td>0</td>\n",
       "    </tr>\n",
       "    <tr>\n",
       "      <th>89289</th>\n",
       "      <td>27.0</td>\n",
       "      <td>0.0</td>\n",
       "      <td>1</td>\n",
       "      <td>0</td>\n",
       "      <td>0</td>\n",
       "      <td>0</td>\n",
       "      <td>0</td>\n",
       "      <td>0</td>\n",
       "      <td>0</td>\n",
       "      <td>0</td>\n",
       "      <td>...</td>\n",
       "      <td>1</td>\n",
       "      <td>0</td>\n",
       "      <td>0</td>\n",
       "      <td>1</td>\n",
       "      <td>0</td>\n",
       "      <td>0</td>\n",
       "      <td>1</td>\n",
       "      <td>0</td>\n",
       "      <td>0</td>\n",
       "      <td>1</td>\n",
       "    </tr>\n",
       "    <tr>\n",
       "      <th>73452</th>\n",
       "      <td>25.0</td>\n",
       "      <td>0.0</td>\n",
       "      <td>1</td>\n",
       "      <td>0</td>\n",
       "      <td>0</td>\n",
       "      <td>0</td>\n",
       "      <td>0</td>\n",
       "      <td>0</td>\n",
       "      <td>0</td>\n",
       "      <td>0</td>\n",
       "      <td>...</td>\n",
       "      <td>1</td>\n",
       "      <td>0</td>\n",
       "      <td>0</td>\n",
       "      <td>1</td>\n",
       "      <td>0</td>\n",
       "      <td>0</td>\n",
       "      <td>1</td>\n",
       "      <td>0</td>\n",
       "      <td>0</td>\n",
       "      <td>1</td>\n",
       "    </tr>\n",
       "  </tbody>\n",
       "</table>\n",
       "<p>5 rows × 97 columns</p>\n",
       "</div>"
      ],
      "text/plain": [
       "         AGE  FATAL  IMPAIRED_N  IMPAIRED_Y  INVEHICLETYPE_Aircraft  \\\n",
       "19097   32.0    0.0           1           0                       0   \n",
       "539001  32.0    0.0           1           0                       0   \n",
       "371351  53.0    0.0           1           0                       0   \n",
       "89289   27.0    0.0           1           0                       0   \n",
       "73452   25.0    0.0           1           0                       0   \n",
       "\n",
       "        INVEHICLETYPE_Atv (all Terrain Vehicle)  INVEHICLETYPE_Bus  \\\n",
       "19097                                         0                  0   \n",
       "539001                                        0                  0   \n",
       "371351                                        0                  0   \n",
       "89289                                         0                  0   \n",
       "73452                                         0                  0   \n",
       "\n",
       "        INVEHICLETYPE_Cargo Van  \\\n",
       "19097                         0   \n",
       "539001                        0   \n",
       "371351                        0   \n",
       "89289                         0   \n",
       "73452                         0   \n",
       "\n",
       "        INVEHICLETYPE_Construction/industrial Equipment  \\\n",
       "19097                                                 0   \n",
       "539001                                                0   \n",
       "371351                                                0   \n",
       "89289                                                 0   \n",
       "73452                                                 0   \n",
       "\n",
       "        INVEHICLETYPE_Drugs/ Narcotics  ...  MINORINJURY_N  MINORINJURY_Y  \\\n",
       "19097                                0  ...              1              0   \n",
       "539001                               0  ...              1              0   \n",
       "371351                               0  ...              1              0   \n",
       "89289                                0  ...              1              0   \n",
       "73452                                0  ...              1              0   \n",
       "\n",
       "        PERSONTYPE_Bicyclist  PERSONTYPE_Driver  PERSONTYPE_Passenger  \\\n",
       "19097                      0                  1                     0   \n",
       "539001                     0                  1                     0   \n",
       "371351                     0                  1                     0   \n",
       "89289                      0                  1                     0   \n",
       "73452                      0                  1                     0   \n",
       "\n",
       "        PERSONTYPE_Pedestrian  SPEEDING_N  SPEEDING_Y  TICKETISSUED_N  \\\n",
       "19097                       0           1           0               1   \n",
       "539001                      0           1           0               0   \n",
       "371351                      0           1           0               1   \n",
       "89289                       0           1           0               0   \n",
       "73452                       0           1           0               0   \n",
       "\n",
       "        TICKETISSUED_Y  \n",
       "19097                0  \n",
       "539001               1  \n",
       "371351               0  \n",
       "89289                1  \n",
       "73452                1  \n",
       "\n",
       "[5 rows x 97 columns]"
      ]
     },
     "execution_count": 57,
     "metadata": {},
     "output_type": "execute_result"
    }
   ],
   "source": [
    "# One-hot-encode the categorical features in the combined data\n",
    "df = pd.get_dummies(df, columns=np.setdiff1d(np.intersect1d(df.columns, df_cat['var']), [target]))\n",
    "\n",
    "# Print the first 5 rows of df\n",
    "df.head()"
   ]
  },
  {
   "cell_type": "code",
   "execution_count": 58,
   "metadata": {},
   "outputs": [
    {
     "data": {
      "text/html": [
       "<div>\n",
       "<style scoped>\n",
       "    .dataframe tbody tr th:only-of-type {\n",
       "        vertical-align: middle;\n",
       "    }\n",
       "\n",
       "    .dataframe tbody tr th {\n",
       "        vertical-align: top;\n",
       "    }\n",
       "\n",
       "    .dataframe thead th {\n",
       "        text-align: right;\n",
       "    }\n",
       "</style>\n",
       "<table border=\"1\" class=\"dataframe\">\n",
       "  <thead>\n",
       "    <tr style=\"text-align: right;\">\n",
       "      <th></th>\n",
       "      <th>AGE</th>\n",
       "      <th>FATAL</th>\n",
       "      <th>IMPAIRED_N</th>\n",
       "      <th>IMPAIRED_Y</th>\n",
       "      <th>INVEHICLETYPE_Aircraft</th>\n",
       "      <th>INVEHICLETYPE_Atv (all Terrain Vehicle)</th>\n",
       "      <th>INVEHICLETYPE_Bus</th>\n",
       "      <th>INVEHICLETYPE_Cargo Van</th>\n",
       "      <th>INVEHICLETYPE_Construction/industrial Equipment</th>\n",
       "      <th>INVEHICLETYPE_Drugs/ Narcotics</th>\n",
       "      <th>...</th>\n",
       "      <th>MINORINJURY_N</th>\n",
       "      <th>MINORINJURY_Y</th>\n",
       "      <th>PERSONTYPE_Bicyclist</th>\n",
       "      <th>PERSONTYPE_Driver</th>\n",
       "      <th>PERSONTYPE_Passenger</th>\n",
       "      <th>PERSONTYPE_Pedestrian</th>\n",
       "      <th>SPEEDING_N</th>\n",
       "      <th>SPEEDING_Y</th>\n",
       "      <th>TICKETISSUED_N</th>\n",
       "      <th>TICKETISSUED_Y</th>\n",
       "    </tr>\n",
       "  </thead>\n",
       "  <tbody>\n",
       "    <tr>\n",
       "      <th>19097</th>\n",
       "      <td>32.0</td>\n",
       "      <td>0</td>\n",
       "      <td>1</td>\n",
       "      <td>0</td>\n",
       "      <td>0</td>\n",
       "      <td>0</td>\n",
       "      <td>0</td>\n",
       "      <td>0</td>\n",
       "      <td>0</td>\n",
       "      <td>0</td>\n",
       "      <td>...</td>\n",
       "      <td>1</td>\n",
       "      <td>0</td>\n",
       "      <td>0</td>\n",
       "      <td>1</td>\n",
       "      <td>0</td>\n",
       "      <td>0</td>\n",
       "      <td>1</td>\n",
       "      <td>0</td>\n",
       "      <td>1</td>\n",
       "      <td>0</td>\n",
       "    </tr>\n",
       "    <tr>\n",
       "      <th>539001</th>\n",
       "      <td>32.0</td>\n",
       "      <td>0</td>\n",
       "      <td>1</td>\n",
       "      <td>0</td>\n",
       "      <td>0</td>\n",
       "      <td>0</td>\n",
       "      <td>0</td>\n",
       "      <td>0</td>\n",
       "      <td>0</td>\n",
       "      <td>0</td>\n",
       "      <td>...</td>\n",
       "      <td>1</td>\n",
       "      <td>0</td>\n",
       "      <td>0</td>\n",
       "      <td>1</td>\n",
       "      <td>0</td>\n",
       "      <td>0</td>\n",
       "      <td>1</td>\n",
       "      <td>0</td>\n",
       "      <td>0</td>\n",
       "      <td>1</td>\n",
       "    </tr>\n",
       "    <tr>\n",
       "      <th>371351</th>\n",
       "      <td>53.0</td>\n",
       "      <td>0</td>\n",
       "      <td>1</td>\n",
       "      <td>0</td>\n",
       "      <td>0</td>\n",
       "      <td>0</td>\n",
       "      <td>0</td>\n",
       "      <td>0</td>\n",
       "      <td>0</td>\n",
       "      <td>0</td>\n",
       "      <td>...</td>\n",
       "      <td>1</td>\n",
       "      <td>0</td>\n",
       "      <td>0</td>\n",
       "      <td>1</td>\n",
       "      <td>0</td>\n",
       "      <td>0</td>\n",
       "      <td>1</td>\n",
       "      <td>0</td>\n",
       "      <td>1</td>\n",
       "      <td>0</td>\n",
       "    </tr>\n",
       "    <tr>\n",
       "      <th>89289</th>\n",
       "      <td>27.0</td>\n",
       "      <td>0</td>\n",
       "      <td>1</td>\n",
       "      <td>0</td>\n",
       "      <td>0</td>\n",
       "      <td>0</td>\n",
       "      <td>0</td>\n",
       "      <td>0</td>\n",
       "      <td>0</td>\n",
       "      <td>0</td>\n",
       "      <td>...</td>\n",
       "      <td>1</td>\n",
       "      <td>0</td>\n",
       "      <td>0</td>\n",
       "      <td>1</td>\n",
       "      <td>0</td>\n",
       "      <td>0</td>\n",
       "      <td>1</td>\n",
       "      <td>0</td>\n",
       "      <td>0</td>\n",
       "      <td>1</td>\n",
       "    </tr>\n",
       "    <tr>\n",
       "      <th>73452</th>\n",
       "      <td>25.0</td>\n",
       "      <td>0</td>\n",
       "      <td>1</td>\n",
       "      <td>0</td>\n",
       "      <td>0</td>\n",
       "      <td>0</td>\n",
       "      <td>0</td>\n",
       "      <td>0</td>\n",
       "      <td>0</td>\n",
       "      <td>0</td>\n",
       "      <td>...</td>\n",
       "      <td>1</td>\n",
       "      <td>0</td>\n",
       "      <td>0</td>\n",
       "      <td>1</td>\n",
       "      <td>0</td>\n",
       "      <td>0</td>\n",
       "      <td>1</td>\n",
       "      <td>0</td>\n",
       "      <td>0</td>\n",
       "      <td>1</td>\n",
       "    </tr>\n",
       "  </tbody>\n",
       "</table>\n",
       "<p>5 rows × 97 columns</p>\n",
       "</div>"
      ],
      "text/plain": [
       "         AGE  FATAL  IMPAIRED_N  IMPAIRED_Y  INVEHICLETYPE_Aircraft  \\\n",
       "19097   32.0      0           1           0                       0   \n",
       "539001  32.0      0           1           0                       0   \n",
       "371351  53.0      0           1           0                       0   \n",
       "89289   27.0      0           1           0                       0   \n",
       "73452   25.0      0           1           0                       0   \n",
       "\n",
       "        INVEHICLETYPE_Atv (all Terrain Vehicle)  INVEHICLETYPE_Bus  \\\n",
       "19097                                         0                  0   \n",
       "539001                                        0                  0   \n",
       "371351                                        0                  0   \n",
       "89289                                         0                  0   \n",
       "73452                                         0                  0   \n",
       "\n",
       "        INVEHICLETYPE_Cargo Van  \\\n",
       "19097                         0   \n",
       "539001                        0   \n",
       "371351                        0   \n",
       "89289                         0   \n",
       "73452                         0   \n",
       "\n",
       "        INVEHICLETYPE_Construction/industrial Equipment  \\\n",
       "19097                                                 0   \n",
       "539001                                                0   \n",
       "371351                                                0   \n",
       "89289                                                 0   \n",
       "73452                                                 0   \n",
       "\n",
       "        INVEHICLETYPE_Drugs/ Narcotics  ...  MINORINJURY_N  MINORINJURY_Y  \\\n",
       "19097                                0  ...              1              0   \n",
       "539001                               0  ...              1              0   \n",
       "371351                               0  ...              1              0   \n",
       "89289                                0  ...              1              0   \n",
       "73452                                0  ...              1              0   \n",
       "\n",
       "        PERSONTYPE_Bicyclist  PERSONTYPE_Driver  PERSONTYPE_Passenger  \\\n",
       "19097                      0                  1                     0   \n",
       "539001                     0                  1                     0   \n",
       "371351                     0                  1                     0   \n",
       "89289                      0                  1                     0   \n",
       "73452                      0                  1                     0   \n",
       "\n",
       "        PERSONTYPE_Pedestrian  SPEEDING_N  SPEEDING_Y  TICKETISSUED_N  \\\n",
       "19097                       0           1           0               1   \n",
       "539001                      0           1           0               0   \n",
       "371351                      0           1           0               1   \n",
       "89289                       0           1           0               0   \n",
       "73452                       0           1           0               0   \n",
       "\n",
       "        TICKETISSUED_Y  \n",
       "19097                0  \n",
       "539001               1  \n",
       "371351               0  \n",
       "89289                1  \n",
       "73452                1  \n",
       "\n",
       "[5 rows x 97 columns]"
      ]
     },
     "execution_count": 58,
     "metadata": {},
     "output_type": "execute_result"
    }
   ],
   "source": [
    "from sklearn.preprocessing import LabelEncoder\n",
    "\n",
    "# The LabelEncoder\n",
    "le = LabelEncoder()\n",
    "\n",
    "# Encode the categorical target in the combined data\n",
    "df[target] = le.fit_transform(df[target].astype(str))\n",
    "\n",
    "# Print the first 5 rows of df\n",
    "df.head()"
   ]
  },
  {
   "cell_type": "code",
   "execution_count": 59,
   "metadata": {},
   "outputs": [],
   "source": [
    "# Separating the training data\n",
    "df_train = df.iloc[:df_train.shape[0], :].copy(deep=True)\n",
    "\n",
    "# Separating the validation data\n",
    "df_valid = df.iloc[df_train.shape[0]:df_train.shape[0] + df_valid.shape[0], :].copy(deep=True)\n",
    "\n",
    "# Separating the testing data\n",
    "df_test = df.iloc[df_train.shape[0] + df_valid.shape[0]:, :].copy(deep=True)"
   ]
  },
  {
   "cell_type": "code",
   "execution_count": 60,
   "metadata": {},
   "outputs": [],
   "source": [
    "features = np.setdiff1d(df.columns, [target])"
   ]
  },
  {
   "cell_type": "code",
   "execution_count": 61,
   "metadata": {},
   "outputs": [],
   "source": [
    "# Get the feature matrix\n",
    "X_train = df_train[features].to_numpy()\n",
    "X_valid = df_valid[features].to_numpy()\n",
    "X_test = df_test[features].to_numpy()\n",
    "\n",
    "# Get the target vector\n",
    "y_train = df_train[target].astype(int).to_numpy()\n",
    "y_valid = df_valid[target].astype(int).to_numpy()"
   ]
  },
  {
   "cell_type": "code",
   "execution_count": 62,
   "metadata": {},
   "outputs": [],
   "source": [
    "from sklearn.preprocessing import StandardScaler\n",
    "\n",
    "# The StandardScaler\n",
    "ss = StandardScaler()\n",
    "\n",
    "# Standardize the training data\n",
    "X_train = ss.fit_transform(X_train)\n",
    "\n",
    "# Standardize the validation data\n",
    "X_valid = ss.transform(X_valid)\n",
    "\n",
    "# Standardize the testing data\n",
    "X_test = ss.transform(X_test)"
   ]
  },
  {
   "cell_type": "code",
   "execution_count": 63,
   "metadata": {},
   "outputs": [],
   "source": [
    "from sklearn.linear_model import LogisticRegression\n",
    "from sklearn.tree import DecisionTreeClassifier\n",
    "from sklearn.ensemble import RandomForestClassifier\n",
    "from sklearn.experimental import enable_hist_gradient_boosting\n",
    "from sklearn.ensemble import HistGradientBoostingClassifier\n",
    "from xgboost.sklearn import XGBClassifier\n",
    "from sklearn.neural_network import MLPClassifier\n",
    "\n",
    "models = {'lr': LogisticRegression(class_weight='balanced', random_state=42),\n",
    "          'dtc': DecisionTreeClassifier(class_weight='balanced', random_state=42),\n",
    "          'rfc': RandomForestClassifier(class_weight='balanced', random_state=42),\n",
    "          'hgbc': HistGradientBoostingClassifier(random_state=42),\n",
    "          'xgbc': XGBClassifier(seed=42),\n",
    "          'mlpc': MLPClassifier(early_stopping=True, random_state=42)}"
   ]
  },
  {
   "cell_type": "code",
   "execution_count": 64,
   "metadata": {},
   "outputs": [],
   "source": [
    "from sklearn.pipeline import Pipeline\n",
    "\n",
    "pipes = {}\n",
    "\n",
    "for acronym, model in models.items():\n",
    "    pipes[acronym] = Pipeline([('model', model)])"
   ]
  },
  {
   "cell_type": "code",
   "execution_count": 65,
   "metadata": {},
   "outputs": [],
   "source": [
    "from sklearn.model_selection import PredefinedSplit\n",
    "\n",
    "# Combine the feature matrix in the training and validation data\n",
    "X_train_valid = np.vstack((X_train, X_valid))\n",
    "\n",
    "# Combine the target vector in the training and validation data\n",
    "y_train_valid = np.append(y_train, y_valid)\n",
    "\n",
    "# Get the indices of training and validation data\n",
    "train_valid_idxs = np.append(np.full(X_train.shape[0], -1), np.full(X_valid.shape[0], 0))\n",
    "\n",
    "# The PredefinedSplit\n",
    "ps = PredefinedSplit(train_valid_idxs)"
   ]
  },
  {
   "cell_type": "code",
   "execution_count": 66,
   "metadata": {},
   "outputs": [],
   "source": [
    "param_grids = {}"
   ]
  },
  {
   "cell_type": "code",
   "execution_count": 67,
   "metadata": {},
   "outputs": [],
   "source": [
    "# The grids for C\n",
    "C_grids = [10 ** i for i in range(-2, 3)]\n",
    "\n",
    "# The grids for tol\n",
    "tol_grids = [10 ** i for i in range(-6, -1)]\n",
    "\n",
    "# Update param_grids\n",
    "param_grids['lr'] = [{'model__C': C_grids,\n",
    "                      'model__tol': tol_grids}]"
   ]
  },
  {
   "cell_type": "code",
   "execution_count": 68,
   "metadata": {},
   "outputs": [],
   "source": [
    "# The grids for min_samples_split\n",
    "min_samples_split_grids = [2, 30, 100]\n",
    "\n",
    "# The grids for min_samples_leaf\n",
    "min_samples_leaf_grids = [1, 30, 100]\n",
    "\n",
    "# The grids for max_depth\n",
    "max_depth_grids = range(1, 11)\n",
    "\n",
    "# Update param_grids\n",
    "param_grids['dtc'] = [{'model__min_samples_split': min_samples_split_grids,\n",
    "                       'model__min_samples_leaf': min_samples_leaf_grids,\n",
    "                       'model__max_depth': max_depth_grids}]"
   ]
  },
  {
   "cell_type": "code",
   "execution_count": 69,
   "metadata": {},
   "outputs": [],
   "source": [
    "# The grids for min_samples_split\n",
    "min_samples_split_grids = [2, 20, 100]\n",
    "\n",
    "# The grids for min_samples_leaf\n",
    "min_samples_leaf_grids = [1, 20, 100]\n",
    "\n",
    "# Update param_grids\n",
    "param_grids['rfc'] = [{'model__min_samples_split': min_samples_split_grids,\n",
    "                       'model__min_samples_leaf': min_samples_leaf_grids}]"
   ]
  },
  {
   "cell_type": "code",
   "execution_count": 70,
   "metadata": {},
   "outputs": [],
   "source": [
    "# The grids for learning_rate\n",
    "learning_rate_grids = [10 ** i for i in range(-3, 2)]\n",
    "\n",
    "# The grids for min_samples_leaf\n",
    "min_samples_leaf_grids = [1, 20, 100]\n",
    "\n",
    "# Update param_grids\n",
    "param_grids['hgbc'] = [{'model__learning_rate': learning_rate_grids,\n",
    "                        'model__min_samples_leaf': min_samples_leaf_grids}]"
   ]
  },
  {
   "cell_type": "code",
   "execution_count": 71,
   "metadata": {},
   "outputs": [],
   "source": [
    "# The grids for eta\n",
    "eta_grids = [10 ** i for i in range(-4, 1)]\n",
    "\n",
    "# The grids for gamma\n",
    "gamma_grids = [0, 10, 100]\n",
    "\n",
    "# The grids for lambda\n",
    "lambda_grids = [10 ** i for i in range(-4, 5)]\n",
    "\n",
    "# Update param_grids\n",
    "param_grids['xgbc'] = [{'model__eta': eta_grids,\n",
    "                        'model__gamma': gamma_grids,\n",
    "                        'model__lambda': lambda_grids}]"
   ]
  },
  {
   "cell_type": "code",
   "execution_count": 72,
   "metadata": {},
   "outputs": [],
   "source": [
    "# The grids for alpha\n",
    "alpha_grids = [10 ** i for i in range(-6, -1)]\n",
    "\n",
    "# The grids for learning_rate_init\n",
    "learning_rate_init_grids = [10 ** i for i in range(-5, 0)]\n",
    "\n",
    "# Update param_grids\n",
    "param_grids['mlpc'] = [{'model__alpha': alpha_grids,\n",
    "                        'model__learning_rate_init': learning_rate_init_grids}]"
   ]
  },
  {
   "cell_type": "code",
   "execution_count": 73,
   "metadata": {},
   "outputs": [
    {
     "name": "stderr",
     "output_type": "stream",
     "text": [
      "C:\\Users\\12023\\anaconda3\\lib\\site-packages\\xgboost\\sklearn.py:888: UserWarning: The use of label encoder in XGBClassifier is deprecated and will be removed in a future release. To remove this warning, do the following: 1) Pass option use_label_encoder=False when constructing XGBClassifier object; and 2) Encode your labels (y) as integers starting with 0, i.e. 0, 1, 2, ..., [num_class - 1].\n",
      "  warnings.warn(label_encoder_deprecation_msg, UserWarning)\n"
     ]
    },
    {
     "name": "stdout",
     "output_type": "stream",
     "text": [
      "[15:40:47] WARNING: C:/Users/Administrator/workspace/xgboost-win64_release_1.3.0/src/learner.cc:1061: Starting in XGBoost 1.3.0, the default evaluation metric used with the objective 'binary:logistic' was changed from 'error' to 'logloss'. Explicitly set eval_metric if you'd like to restore the old behavior.\n"
     ]
    }
   ],
   "source": [
    "from sklearn.model_selection import GridSearchCV\n",
    "\n",
    "# The list of [best_score_, best_params_, best_estimator_] obtained by GridSearchCV\n",
    "best_score_param_estimator_gs = []\n",
    "\n",
    "for acronym in pipes.keys():\n",
    "    # GridSearchCV\n",
    "    gs = GridSearchCV(estimator=pipes[acronym],\n",
    "                      param_grid=param_grids[acronym],\n",
    "                      scoring='f1_micro',\n",
    "                      n_jobs=-1,\n",
    "                      cv=ps,\n",
    "                      return_train_score=True)\n",
    "        \n",
    "    # Fit the pipeline\n",
    "    gs = gs.fit(X_train_valid, y_train_valid)\n",
    "    \n",
    "    # Update best_score_param_estimator_gs\n",
    "    best_score_param_estimator_gs.append([gs.best_score_, gs.best_params_, gs.best_estimator_])\n",
    "    \n",
    "    # Sort cv_results in ascending order of 'rank_test_score' and 'std_test_score'\n",
    "    cv_results = pd.DataFrame.from_dict(gs.cv_results_).sort_values(by=['rank_test_score', 'std_test_score'])\n",
    "    \n",
    "    # Get the important columns in cv_results\n",
    "    important_columns = ['rank_test_score',\n",
    "                         'mean_test_score', \n",
    "                         'std_test_score', \n",
    "                         'mean_train_score', \n",
    "                         'std_train_score',\n",
    "                         'mean_fit_time', \n",
    "                         'std_fit_time',                        \n",
    "                         'mean_score_time', \n",
    "                         'std_score_time']\n",
    "    \n",
    "    # Move the important columns ahead\n",
    "    cv_results = cv_results[important_columns + sorted(list(set(cv_results.columns) - set(important_columns)))]"
   ]
  },
  {
   "cell_type": "code",
   "execution_count": 74,
   "metadata": {},
   "outputs": [
    {
     "data": {
      "text/html": [
       "<div>\n",
       "<style scoped>\n",
       "    .dataframe tbody tr th:only-of-type {\n",
       "        vertical-align: middle;\n",
       "    }\n",
       "\n",
       "    .dataframe tbody tr th {\n",
       "        vertical-align: top;\n",
       "    }\n",
       "\n",
       "    .dataframe thead th {\n",
       "        text-align: right;\n",
       "    }\n",
       "</style>\n",
       "<table border=\"1\" class=\"dataframe\">\n",
       "  <thead>\n",
       "    <tr style=\"text-align: right;\">\n",
       "      <th></th>\n",
       "      <th>best_score</th>\n",
       "      <th>best_param</th>\n",
       "      <th>best_estimator</th>\n",
       "    </tr>\n",
       "  </thead>\n",
       "  <tbody>\n",
       "    <tr>\n",
       "      <th>0</th>\n",
       "      <td>0.999297</td>\n",
       "      <td>{'model__learning_rate': 0.001, 'model__min_sa...</td>\n",
       "      <td>(HistGradientBoostingClassifier(l2_regularizat...</td>\n",
       "    </tr>\n",
       "    <tr>\n",
       "      <th>1</th>\n",
       "      <td>0.999297</td>\n",
       "      <td>{'model__eta': 0.0001, 'model__gamma': 0, 'mod...</td>\n",
       "      <td>(XGBClassifier(base_score=0.5, booster='gbtree...</td>\n",
       "    </tr>\n",
       "    <tr>\n",
       "      <th>2</th>\n",
       "      <td>0.999297</td>\n",
       "      <td>{'model__alpha': 1e-06, 'model__learning_rate_...</td>\n",
       "      <td>(MLPClassifier(activation='relu', alpha=1e-06,...</td>\n",
       "    </tr>\n",
       "    <tr>\n",
       "      <th>3</th>\n",
       "      <td>0.988137</td>\n",
       "      <td>{'model__max_depth': 4, 'model__min_samples_le...</td>\n",
       "      <td>(DecisionTreeClassifier(ccp_alpha=0.0, class_w...</td>\n",
       "    </tr>\n",
       "    <tr>\n",
       "      <th>4</th>\n",
       "      <td>0.955448</td>\n",
       "      <td>{'model__min_samples_leaf': 20, 'model__min_sa...</td>\n",
       "      <td>((DecisionTreeClassifier(ccp_alpha=0.0, class_...</td>\n",
       "    </tr>\n",
       "    <tr>\n",
       "      <th>5</th>\n",
       "      <td>0.838647</td>\n",
       "      <td>{'model__C': 0.01, 'model__tol': 1e-06}</td>\n",
       "      <td>(LogisticRegression(C=0.01, class_weight='bala...</td>\n",
       "    </tr>\n",
       "  </tbody>\n",
       "</table>\n",
       "</div>"
      ],
      "text/plain": [
       "   best_score                                         best_param  \\\n",
       "0    0.999297  {'model__learning_rate': 0.001, 'model__min_sa...   \n",
       "1    0.999297  {'model__eta': 0.0001, 'model__gamma': 0, 'mod...   \n",
       "2    0.999297  {'model__alpha': 1e-06, 'model__learning_rate_...   \n",
       "3    0.988137  {'model__max_depth': 4, 'model__min_samples_le...   \n",
       "4    0.955448  {'model__min_samples_leaf': 20, 'model__min_sa...   \n",
       "5    0.838647            {'model__C': 0.01, 'model__tol': 1e-06}   \n",
       "\n",
       "                                      best_estimator  \n",
       "0  (HistGradientBoostingClassifier(l2_regularizat...  \n",
       "1  (XGBClassifier(base_score=0.5, booster='gbtree...  \n",
       "2  (MLPClassifier(activation='relu', alpha=1e-06,...  \n",
       "3  (DecisionTreeClassifier(ccp_alpha=0.0, class_w...  \n",
       "4  ((DecisionTreeClassifier(ccp_alpha=0.0, class_...  \n",
       "5  (LogisticRegression(C=0.01, class_weight='bala...  "
      ]
     },
     "execution_count": 74,
     "metadata": {},
     "output_type": "execute_result"
    }
   ],
   "source": [
    "# Sort best_score_param_estimator_gs in descending order of the best_score_\n",
    "best_score_param_estimator_gs = sorted(best_score_param_estimator_gs, key=lambda x : x[0], reverse=True)\n",
    "\n",
    "# Print best_score_param_estimator_gs\n",
    "pd.DataFrame(best_score_param_estimator_gs, columns=['best_score', 'best_param', 'best_estimator'])"
   ]
  },
  {
   "cell_type": "markdown",
   "metadata": {},
   "source": [
    "For the HistGradientBoostingClassifier and MLPClassier models, I got the error which states 'object has no attribute 'feature_importances_''. Since the score for the XGBClassifier was the same with 0.999297, it was chosen to look at the importanes of different features. To get a bigger range, I also chose the DecisionTreeClassifier, which have a score very close to the other three. The models with the highest important features will be chosen."
   ]
  },
  {
   "cell_type": "code",
   "execution_count": 92,
   "metadata": {},
   "outputs": [
    {
     "data": {
      "text/html": [
       "<div>\n",
       "<style scoped>\n",
       "    .dataframe tbody tr th:only-of-type {\n",
       "        vertical-align: middle;\n",
       "    }\n",
       "\n",
       "    .dataframe tbody tr th {\n",
       "        vertical-align: top;\n",
       "    }\n",
       "\n",
       "    .dataframe thead th {\n",
       "        text-align: right;\n",
       "    }\n",
       "</style>\n",
       "<table border=\"1\" class=\"dataframe\">\n",
       "  <thead>\n",
       "    <tr style=\"text-align: right;\">\n",
       "      <th></th>\n",
       "      <th>Features</th>\n",
       "      <th>Importance</th>\n",
       "    </tr>\n",
       "  </thead>\n",
       "  <tbody>\n",
       "    <tr>\n",
       "      <th>0</th>\n",
       "      <td>INVEHICLETYPE_Motor Cycle</td>\n",
       "      <td>0.195212</td>\n",
       "    </tr>\n",
       "    <tr>\n",
       "      <th>1</th>\n",
       "      <td>MAJORINJURY_N</td>\n",
       "      <td>0.181538</td>\n",
       "    </tr>\n",
       "    <tr>\n",
       "      <th>2</th>\n",
       "      <td>LICENSEPLATESTATE_TX</td>\n",
       "      <td>0.149698</td>\n",
       "    </tr>\n",
       "    <tr>\n",
       "      <th>3</th>\n",
       "      <td>SPEEDING_N</td>\n",
       "      <td>0.103561</td>\n",
       "    </tr>\n",
       "    <tr>\n",
       "      <th>4</th>\n",
       "      <td>TICKETISSUED_N</td>\n",
       "      <td>0.06694</td>\n",
       "    </tr>\n",
       "  </tbody>\n",
       "</table>\n",
       "</div>"
      ],
      "text/plain": [
       "                    Features Importance\n",
       "0  INVEHICLETYPE_Motor Cycle   0.195212\n",
       "1              MAJORINJURY_N   0.181538\n",
       "2       LICENSEPLATESTATE_TX   0.149698\n",
       "3                 SPEEDING_N   0.103561\n",
       "4             TICKETISSUED_N    0.06694"
      ]
     },
     "execution_count": 92,
     "metadata": {},
     "output_type": "execute_result"
    }
   ],
   "source": [
    "# Get the best_score, best_param and best_estimator of random forest obtained by GridSearchCV\n",
    "best_score_rfc, best_param_rfc, best_estimator_rfc = best_score_param_estimator_gs[1]\n",
    "\n",
    "# Get the dataframe of feature and importance\n",
    "df_fi_rfc = pd.DataFrame(np.hstack((features.reshape(-1, 1), best_estimator_rfc.named_steps['model'].feature_importances_.reshape(-1, 1))),\n",
    "                         columns=['Features', 'Importance'])\n",
    "\n",
    "# Sort df_fi_rfc in descending order of the importance\n",
    "df_fi_rfc = df_fi_rfc.sort_values(ascending=False, by='Importance').reset_index(drop=True)\n",
    "\n",
    "# Print the first 5 rows of df_fi_rfc\n",
    "df_fi_rfc.head()"
   ]
  },
  {
   "cell_type": "code",
   "execution_count": 82,
   "metadata": {},
   "outputs": [
    {
     "data": {
      "image/png": "[encoded data removed]",
      "text/plain": [
       "<Figure size 720x360 with 1 Axes>"
      ]
     },
     "metadata": {
      "needs_background": "light"
     },
     "output_type": "display_data"
    }
   ],
   "source": [
    "# Create a figure\n",
    "fig = plt.figure(figsize=(10, 5))\n",
    "\n",
    "# Implement me\n",
    "# The bar plot of the top 5 feature importance\n",
    "plt.bar(df_fi_rfc['Features'][:5], df_fi_rfc['Importance'][:5], color='green')\n",
    "\n",
    "# Set x-axis\n",
    "plt.xlabel('Features')\n",
    "plt.xticks(rotation=90)\n",
    "\n",
    "# Set y-axis\n",
    "plt.ylabel('Importance')\n",
    "\n",
    "# Save and show the figure\n",
    "plt.tight_layout()\n",
    "plt.xticks(rotation = 45)\n",
    "plt.title('Importance for XGB Classifier')\n",
    "plt.show()"
   ]
  },
  {
   "cell_type": "code",
   "execution_count": 81,
   "metadata": {},
   "outputs": [
    {
     "data": {
      "text/html": [
       "<div>\n",
       "<style scoped>\n",
       "    .dataframe tbody tr th:only-of-type {\n",
       "        vertical-align: middle;\n",
       "    }\n",
       "\n",
       "    .dataframe tbody tr th {\n",
       "        vertical-align: top;\n",
       "    }\n",
       "\n",
       "    .dataframe thead th {\n",
       "        text-align: right;\n",
       "    }\n",
       "</style>\n",
       "<table border=\"1\" class=\"dataframe\">\n",
       "  <thead>\n",
       "    <tr style=\"text-align: right;\">\n",
       "      <th></th>\n",
       "      <th>Features</th>\n",
       "      <th>Importance</th>\n",
       "    </tr>\n",
       "  </thead>\n",
       "  <tbody>\n",
       "    <tr>\n",
       "      <th>0</th>\n",
       "      <td>INVEHICLETYPE_None</td>\n",
       "      <td>0.306189</td>\n",
       "    </tr>\n",
       "    <tr>\n",
       "      <th>1</th>\n",
       "      <td>SPEEDING_Y</td>\n",
       "      <td>0.267072</td>\n",
       "    </tr>\n",
       "    <tr>\n",
       "      <th>2</th>\n",
       "      <td>INVEHICLETYPE_Motor Cycle</td>\n",
       "      <td>0.155513</td>\n",
       "    </tr>\n",
       "    <tr>\n",
       "      <th>3</th>\n",
       "      <td>MINORINJURY_N</td>\n",
       "      <td>0.132</td>\n",
       "    </tr>\n",
       "    <tr>\n",
       "      <th>4</th>\n",
       "      <td>MINORINJURY_Y</td>\n",
       "      <td>0.117607</td>\n",
       "    </tr>\n",
       "  </tbody>\n",
       "</table>\n",
       "</div>"
      ],
      "text/plain": [
       "                    Features Importance\n",
       "0         INVEHICLETYPE_None   0.306189\n",
       "1                 SPEEDING_Y   0.267072\n",
       "2  INVEHICLETYPE_Motor Cycle   0.155513\n",
       "3              MINORINJURY_N      0.132\n",
       "4              MINORINJURY_Y   0.117607"
      ]
     },
     "execution_count": 81,
     "metadata": {},
     "output_type": "execute_result"
    }
   ],
   "source": [
    "# Get the best_score, best_param and best_estimator of random forest obtained by GridSearchCV\n",
    "best_score_rfc_2, best_param_rfc_2, best_estimator_rfc_2 = best_score_param_estimator_gs[3]\n",
    "\n",
    "# Get the dataframe of feature and importance\n",
    "df_fi_rfc_2 = pd.DataFrame(np.hstack((features.reshape(-1, 1), best_estimator_rfc_2.named_steps['model'].feature_importances_.reshape(-1, 1))),\n",
    "                         columns=['Features', 'Importance'])\n",
    "\n",
    "# Sort df_fi_rfc in descending order of the importance\n",
    "df_fi_rfc_2 = df_fi_rfc_2.sort_values(ascending=False, by='Importance').reset_index(drop=True)\n",
    "\n",
    "# Print the first 5 rows of df_fi_rfc\n",
    "df_fi_rfc_2.head()"
   ]
  },
  {
   "cell_type": "code",
   "execution_count": 84,
   "metadata": {},
   "outputs": [
    {
     "data": {
      "image/png": "[encoded data removed]",
      "text/plain": [
       "<Figure size 720x360 with 1 Axes>"
      ]
     },
     "metadata": {
      "needs_background": "light"
     },
     "output_type": "display_data"
    }
   ],
   "source": [
    "# Create a figure\n",
    "fig = plt.figure(figsize=(10, 5))\n",
    "\n",
    "# Implement me\n",
    "# The bar plot of the top 5 feature importance\n",
    "plt.bar(df_fi_rfc_2['Features'][:5], df_fi_rfc_2['Importance'][:5], color='green')\n",
    "\n",
    "# Set x-axis\n",
    "plt.xlabel('Features')\n",
    "plt.xticks(rotation=90)\n",
    "\n",
    "# Set y-axis\n",
    "plt.ylabel('Importance')\n",
    "\n",
    "# Save and show the figure\n",
    "plt.tight_layout()\n",
    "plt.xticks(rotation = 45)\n",
    "plt.title('Importance for Decision Tree Classifier')\n",
    "plt.show()"
   ]
  },
  {
   "cell_type": "markdown",
   "metadata": {},
   "source": [
    "With the two combined models, the features with the highest importance in determining whether a crash will be fatal or not are as follows:\n",
    " - Vehicle Type of None (0.306189)\n",
    " - Speeding (0.267072)\n",
    " - Vehicle Type of Motorcycle (0.155513)"
   ]
  },
  {
   "cell_type": "markdown",
   "metadata": {},
   "source": [
    "## Discussion\n",
    "\n",
    "Based on the findings based on the EDA and the different models, a number of conclusions can be drawn. One of the biggest problems leading to fatal crashes is the fact that the vehicle involved was speeding. This was shown by the Decision Tree Classifier which gave it an importance of 0.267072. Additionally, when looking at the EDA, there was a percentage increase from 1.1% of cars speeding involved in non-fatal crashes to 14.7% of cars speeding which were involved in fatal crashes. This statistic is supported by the fact that the MPD decided to reduce the speed limit from 25 MPH to 20 MPH as the default speed limit on June 1st, 2020. DC also has a no-chase policy, which would help reduce the number of crashes due to speeding during a car chase; which would also result in reckless driving. This no-chase policy also aims to reduce the number of unplated vehicles as there is no fear of being chased; from the EDA, it is clear that unplated vehicles are involved in a much higher proportion in fatal crashes than non-fatal crashes.\n",
    "\n",
    "The importance of this policy is emphasized by the fact that according to WUSA9.com on October 29, 2020 DC police violated this no chase policy which resultant in the driver of the getaway vehicle losing his life from crashing his moped into another vehicle. The article can be accessed at: https://www.wusa9.com/article/news/local/dc/dc-police-chase-policies-karon-hylton-moped-death/65-1e7f17ea-6b2f-4fa6-a3c0-fab44b70e539. \n",
    "\n",
    "This policy can also be tied to the fact that bystander are more likely to be hit by reckless drivers due to car chases. The Decision Tree Classifier gave the vehicle type of none the highest importance when it comes to predicting fatal crashes. According to an article by Gilman & Bedigian, \"in 2010, Washington D.C. led the country with the highest percentage of pedestrians killed in traffic accidents. Between 2011 and 2013 there was actually an increase in pedestrian injuries in Washington D.C, from about 831 in 2011 to more than 1,000 in 2013. In 2013, at least 12 of those accidents were fatal, and 74 were disabling injuries. In the broader DC Metro area, there were 60 pedestrian fatalities in 2015, up from 53 in 2014, and 45 in 2013. The number of pedestrians killed in car accidents has changed little over the past decade. However, while cars are getting safer, with greater protection for passenger and drivers, pedestrians are still unprotected in the face of a car accident. Pedestrians do not have the benefit of crumple zones, air bags, or seat belts. When a car hits a pedestrian, the pedestrian always loses.\" This article can be accessed at: https://www.gilmanbedigian.com/pedestrians-hit-by-cars-in-dc/\n",
    "\n",
    "To combat this, the MPD offers the following advice to pedestrians:\n",
    " - Use signaled crosswalks when possible. \n",
    " - Use extreme caution when crossing at intersections without signals.\n",
    " - Look both ways before crossing the street.\n",
    " - Never run between cars into the street.\n",
    " - Wear clothing that allows drivers and people to see you.\n",
    " \n",
    " This, along with other tips can be accessed at: https://mpdc.dc.gov/page/share-road-tips-drivers-cyclists-and-pedestrians\n",
    " \n",
    "Similar to pedestrians, motorcyclists do not have the benefit of crumple zones, air bags, or seat belts, and when hit by a car, the motorcyclist always loses. The XGB classifier gave motorcyclists the highest importance of 0.195212, while the Decision Tree Classifier gave them an importance of 0.155513. Another explanation for such a high importance is that moped companies such as Revel offer DC residents to rent them for very cheap, which can be taken advantage of to be used as getaway vehicles for different crimes. In Washington DC, it is law for motorcycle riders to wear a DOT approved helmet and companies such as revel ban riders for not complying with the law. "
   ]
  }
 ],
 "metadata": {
  "kernelspec": {
   "display_name": "Python 3",
   "language": "python",
   "name": "python3"
  },
  "language_info": {
   "codemirror_mode": {
    "name": "ipython",
    "version": 3
   },
   "file_extension": ".py",
   "mimetype": "text/x-python",
   "name": "python",
   "nbconvert_exporter": "python",
   "pygments_lexer": "ipython3",
   "version": "3.7.6"
  }
 },
 "nbformat": 4,
 "nbformat_minor": 4
}
